{
 "cells": [
  {
   "cell_type": "markdown",
   "metadata": {},
   "source": [
    "# Gradient Matching Attack on a TF Classifier"
   ]
  },
  {
   "cell_type": "markdown",
   "metadata": {},
   "source": [
    "In this notebook, we will learn how to use ART to run a clean-label gradient matching poisoning attack on a neural network trained with Tensorflow. We will be training our data on a subset of the CIFAR-10 dataset. The methods described are derived from [this paper](https://arxiv.org/abs/2009.02276) by Geiping, et. al. 2020."
   ]
  },
  {
   "cell_type": "markdown",
   "metadata": {},
   "source": [
    "## Train a model to attack\n",
    "\n",
    "In this example, we use a RESNET50 model on the CIFAR dataset."
   ]
  },
  {
   "cell_type": "code",
   "execution_count": 1,
   "metadata": {},
   "outputs": [],
   "source": [
    "import numpy as np\n",
    "import os, sys\n",
    "\n",
    "os.environ['TF_FORCE_GPU_ALLOW_GROWTH'] = 'true'\n",
    "module_path = os.path.abspath(os.path.join('..'))\n",
    "if module_path not in sys.path:\n",
    "    sys.path.append(module_path)\n",
    "module_path = os.path.abspath(os.path.join('.'))\n",
    "if module_path not in sys.path:\n",
    "    sys.path.append(module_path)\n",
    "\n",
    "from art.estimators.classification import TensorFlowV2Classifier\n",
    "from art.utils import load_cifar10\n",
    "\n",
    "(x_train, y_train), (x_test, y_test), min_, max_ = load_cifar10()\n",
    "# x_train = x_train[0:10000]\n",
    "# y_train = y_train[0:10000]\n",
    "mean = np.mean(x_train,axis=(0,1,2,3))\n",
    "std = np.std(x_train,axis=(0,1,2,3))\n",
    "x_train = (x_train-mean)/(std+1e-7)\n",
    "x_test = (x_test-mean)/(std+1e-7)\n",
    "\n",
    "min_ = (min_-mean)/(std+1e-7)\n",
    "max_ = (max_-mean)/(std+1e-7)\n",
    "\n",
    "import tensorflow as tf\n",
    "from tensorflow.keras.models import Sequential\n",
    "from tensorflow.keras.layers import Dense, Flatten\n",
    "from tensorflow.keras.preprocessing.image import ImageDataGenerator\n",
    "\n",
    "# def create_model(x_train, y_train, num_classes=10, batch_size=64, epochs=100):\n",
    "#     model = Sequential([\n",
    "#         tf.keras.applications.ResNet50(input_shape=x_train.shape[1:], include_top=False, weights=None),\n",
    "#         Flatten(),\n",
    "#         Dense(num_classes, activation='softmax')\n",
    "#     ])\n",
    "\n",
    "#     model.compile(loss='categorical_crossentropy', optimizer='sgd', metrics=['accuracy'])\n",
    "\n",
    "#     datagen = ImageDataGenerator(\n",
    "#         featurewise_center=False,\n",
    "#         samplewise_center=False,\n",
    "#         featurewise_std_normalization=False,\n",
    "#         samplewise_std_normalization=False,\n",
    "#         zca_whitening=False,\n",
    "#         rotation_range=15,\n",
    "#         width_shift_range=0.1,\n",
    "#         height_shift_range=0.1,\n",
    "#         horizontal_flip=True,\n",
    "#         vertical_flip=False\n",
    "#         )\n",
    "#     datagen.fit(x_train)\n",
    "#     model.fit(datagen.flow(x_train, y_train, batch_size=batch_size), steps_per_epoch=x_train.shape[0] // batch_size,epochs=epochs,verbose=1)\n",
    "#     return model\n",
    "\n",
    "# # model = create_model(x_train, y_train, epochs=150)\n",
    "# model_art = TensorFlowV2Classifier(model, nb_classes=10, input_shape=model.input_shape)"
   ]
  },
  {
   "cell_type": "code",
   "execution_count": 2,
   "metadata": {},
   "outputs": [],
   "source": [
    "# # Save the model\n",
    "# model.save('sleeper_agent_model_100_epochs')"
   ]
  },
  {
   "cell_type": "markdown",
   "metadata": {},
   "source": [
    "# Load saved model"
   ]
  },
  {
   "cell_type": "code",
   "execution_count": 3,
   "metadata": {},
   "outputs": [],
   "source": [
    "# The accuracy of saved model is ~81%\n",
    "model = tf.keras.models.load_model('sleeper_agent_model_100_epochs')\n",
    "model_art = TensorFlowV2Classifier(model, nb_classes=10, input_shape=model.input_shape)"
   ]
  },
  {
   "cell_type": "markdown",
   "metadata": {},
   "source": [
    "## Choose Target Image from Test Set"
   ]
  },
  {
   "cell_type": "code",
   "execution_count": 4,
   "metadata": {},
   "outputs": [
    {
     "name": "stderr",
     "output_type": "stream",
     "text": [
      "Clipping input data to the valid range for imshow with RGB data ([0..1] for floats or [0..255] for integers).\n"
     ]
    },
    {
     "name": "stdout",
     "output_type": "stream",
     "text": [
      "1000\n"
     ]
    },
    {
     "data": {
      "text/plain": [
       "<matplotlib.image.AxesImage at 0x7efd4c1ca9a0>"
      ]
     },
     "execution_count": 4,
     "metadata": {},
     "output_type": "execute_result"
    },
    {
     "data": {
      "image/png": "[encoded data removed]",
      "text/plain": [
       "<Figure size 432x288 with 1 Axes>"
      ]
     },
     "metadata": {
      "needs_background": "light"
     },
     "output_type": "display_data"
    }
   ],
   "source": [
    "from tensorflow.keras.utils import to_categorical\n",
    "from PIL import Image\n",
    "from numpy import asarray\n",
    "import matplotlib.pyplot as plt\n",
    "from skimage.transform import resize\n",
    "\n",
    "# # A trigger from class 0 will be classified into class 1.\n",
    "K = 1000\n",
    "class_source = 0\n",
    "class_target = 1\n",
    "\n",
    "# Select a random example for target\n",
    "# index_target = np.where(y_test.argmax(axis=1)==class_source)[0]\n",
    "index_target = np.where(y_train.argmax(axis=1)==class_source)[0][0:K]\n",
    "print(len(index_target))\n",
    "plt.imshow(x_train[index_target[1]])\n"
   ]
  },
  {
   "cell_type": "code",
   "execution_count": 5,
   "metadata": {},
   "outputs": [
    {
     "name": "stderr",
     "output_type": "stream",
     "text": [
      "Clipping input data to the valid range for imshow with RGB data ([0..1] for floats or [0..255] for integers).\n"
     ]
    },
    {
     "name": "stdout",
     "output_type": "stream",
     "text": [
      "(80, 80, 3)\n",
      "(1000, 10)\n",
      "(1000, 32, 32, 3)\n"
     ]
    },
    {
     "data": {
      "image/png": "[encoded data removed]",
      "text/plain": [
       "<Figure size 432x288 with 1 Axes>"
      ]
     },
     "metadata": {
      "needs_background": "light"
     },
     "output_type": "display_data"
    }
   ],
   "source": [
    "img = Image.open('trigger_10.png')\n",
    "\n",
    "# PIL images into NumPy arrays\n",
    "numpydata = asarray(img)\n",
    "print(numpydata.shape)\n",
    "p = resize(numpydata, (8,8,3))\n",
    "# print(numpydata.shape)\n",
    "  \n",
    "\n",
    "# Trigger sample\n",
    "# We can select any random trigger as per the paper\n",
    "# x_trigger = x_test[index_target:index_target+1]\n",
    "x_trigger = np.copy(x_train[index_target])\n",
    "# Will the position of tigger matter?????????????? RESEARCH QUESTIONS [Need to make this random]\n",
    "# x_trigger[:,16:24,16:24,:] = p\n",
    "plt.imshow(x_trigger[1])\n",
    "y_trigger  = to_categorical([class_target], num_classes=10)\n",
    "y_trigger = np.tile(y_trigger, (len(index_target), 1))\n",
    "print(y_trigger.shape)\n",
    "print(x_trigger.shape)"
   ]
  },
  {
   "cell_type": "markdown",
   "metadata": {},
   "source": [
    "## Poison Training Images to Misclassify the Trigger Image\n"
   ]
  },
  {
   "cell_type": "code",
   "execution_count": 6,
   "metadata": {
    "scrolled": false
   },
   "outputs": [
    {
     "name": "stdout",
     "output_type": "stream",
     "text": [
      "0.39750521740452593\n",
      "shape of y_train (50000, 10)\n",
      "shape of y_train_classes [6 9 9 ... 9 1 1]\n",
      "shape of y_train (50000, 10)\n",
      "shape of x_trigger (1000, 32, 32, 3)\n",
      "shape of y_trigger (1000, 10)\n"
     ]
    },
    {
     "data": {
      "application/vnd.jupyter.widget-view+json": {
       "model_id": "b49ee6bbcf174908be161132deb6bfa1",
       "version_major": 2,
       "version_minor": 0
      },
      "text/plain": [
       "  0%|          | 0/1 [00:00<?, ?it/s]"
      ]
     },
     "metadata": {},
     "output_type": "display_data"
    },
    {
     "name": "stdout",
     "output_type": "stream",
     "text": [
      "index_target [    4     5    32 ... 49993 49998 49999]\n",
      "5000\n",
      "500\n",
      "[1556, 2916, 4781, 3049, 509, 1081, 4435, 1253, 619, 3497, 2975, 3281, 1513, 2892, 3584, 1366, 4278, 291, 392, 2070, 3358, 3172, 2939, 781, 7, 1710, 3610, 1845, 2017, 3817, 1489, 617, 4698, 3897, 1486, 234, 3689, 2734, 2879, 1560, 1797, 4842, 3739, 74, 1915, 4505, 1299, 2928, 2182, 3662, 1350, 2218, 2136, 3828, 495, 1625, 859, 4916, 1786, 1347, 4443, 885, 1411, 2285, 3788, 3519, 3185, 3741, 2272, 44, 2978, 4180, 4331, 1831, 3745, 2690, 4785, 3039, 3977, 1733, 4898, 4637, 3790, 4586, 1946, 610, 3645, 2433, 1478, 2129, 3650, 2595, 3670, 2085, 511, 3297, 2833, 1337, 4879, 3124, 2529, 1236, 4453, 2406, 3352, 1966, 1099, 3853, 3699, 4188, 1546, 404, 2045, 3734, 1873, 4964, 4313, 2569, 2322, 4722, 3330, 4236, 2792, 3599, 3663, 4847, 2653, 76, 4643, 4535, 1103, 4834, 559, 160, 1417, 2038, 335, 876, 4731, 2576, 1295, 2505, 3441, 3617, 1519, 4915, 2393, 155, 4521, 3880, 2920, 4613, 240, 937, 2115, 1262, 437, 2614, 2862, 99, 992, 3085, 1818, 4425, 325, 4831, 198, 4201, 60, 289, 141, 2275, 2914, 4454, 1804, 3239, 685, 3683, 1290, 3773, 2385, 2004, 2850, 2629, 3708, 1917, 3102, 808, 2201, 19, 4355, 4259, 740, 827, 1418, 2641, 383, 69, 4681, 1711, 1039, 1131, 3851, 1149, 427, 2562, 1479, 2177, 776, 3232, 3292, 1011, 143, 3340, 2348, 4100, 856, 3707, 605, 3058, 213, 4196, 30, 697, 684, 457, 312, 1606, 4327, 261, 2487, 4580, 2585, 3079, 4390, 4404, 2246, 1227, 814, 1801, 2044, 3655, 4978, 3432, 4482, 4410, 3849, 1263, 1816, 2280, 3321, 2773, 1614, 1910, 3757, 3305, 4742, 872, 3498, 1222, 1346, 900, 1138, 2520, 1992, 4402, 3605, 71, 3893, 2877, 1604, 4564, 408, 620, 2319, 3307, 4047, 2858, 3771, 3176, 615, 3071, 391, 1895, 3507, 2758, 4859, 979, 3043, 1420, 4520, 2878, 2424, 2184, 2092, 4650, 3138, 2874, 1307, 3884, 2149, 3744, 422, 4640, 2974, 2456, 1154, 3474, 4744, 1348, 1393, 4451, 514, 463, 4523, 238, 4554, 3937, 57, 4811, 1903, 2310, 357, 2693, 803, 2616, 3399, 2460, 2279, 521, 1874, 1954, 4398, 629, 4513, 2550, 2547, 2591, 2721, 2068, 3345, 4772, 1692, 3738, 4644, 2282, 88, 274, 3805, 4901, 3295, 2370, 670, 184, 2345, 3614, 4055, 3015, 550, 762, 1147, 2167, 2147, 3240, 1757, 4668, 241, 528, 3799, 2273, 3435, 3028, 2726, 4791, 1539, 4570, 2905, 460, 4829, 1181, 2673, 3563, 751, 36, 4470, 1302, 2584, 4339, 2455, 2347, 1303, 755, 4106, 3758, 1699, 3852, 1256, 1739, 484, 1588, 104, 1408, 161, 1928, 2257, 893, 4127, 3002, 1317, 3133, 4189, 955, 925, 221, 3992, 530, 3588, 4312, 2636, 90, 720, 4541, 2837, 3017, 596, 2265, 4755, 2213, 933, 4661, 1093, 39, 4686, 4699, 4450, 2088, 1146, 2481, 2326, 3419, 4608, 3309, 2933, 175, 3929, 1849, 4060, 473, 2609, 2415, 2570, 3772, 346, 2065, 2434, 4009, 1059, 4961, 3885, 586, 411, 259, 1305, 4348, 2990, 4244, 1097, 4364, 4627, 3020, 248, 1855, 476, 1088, 1760, 2440, 1813, 1698, 4669, 2057, 4856, 501, 1357, 909, 4759, 3011, 3274, 1014, 3465, 1776, 3832, 4426, 3427, 2761, 1607, 3898, 2496, 4091, 1732, 815]\n",
      "WARNING:tensorflow:\n",
      "The following Variables were used a Lambda layer's call (lambda_1), but\n",
      "are not present in its tracked objects:\n",
      "  <tf.Variable 'dense/kernel:0' shape=(2048, 10) dtype=float32>\n",
      "  <tf.Variable 'dense/bias:0' shape=(10,) dtype=float32>\n",
      "  <tf.Variable 'conv1_conv/kernel:0' shape=(7, 7, 3, 64) dtype=float32>\n",
      "  <tf.Variable 'conv1_conv/bias:0' shape=(64,) dtype=float32>\n",
      "  <tf.Variable 'conv1_bn/gamma:0' shape=(64,) dtype=float32>\n",
      "  <tf.Variable 'conv1_bn/beta:0' shape=(64,) dtype=float32>\n",
      "  <tf.Variable 'conv2_block1_1_conv/kernel:0' shape=(1, 1, 64, 64) dtype=float32>\n",
      "  <tf.Variable 'conv2_block1_1_conv/bias:0' shape=(64,) dtype=float32>\n",
      "  <tf.Variable 'conv2_block1_1_bn/gamma:0' shape=(64,) dtype=float32>\n",
      "  <tf.Variable 'conv2_block1_1_bn/beta:0' shape=(64,) dtype=float32>\n",
      "  <tf.Variable 'conv2_block1_2_conv/kernel:0' shape=(3, 3, 64, 64) dtype=float32>\n",
      "  <tf.Variable 'conv2_block1_2_conv/bias:0' shape=(64,) dtype=float32>\n",
      "  <tf.Variable 'conv2_block1_2_bn/gamma:0' shape=(64,) dtype=float32>\n",
      "  <tf.Variable 'conv2_block1_2_bn/beta:0' shape=(64,) dtype=float32>\n",
      "  <tf.Variable 'conv2_block1_0_conv/kernel:0' shape=(1, 1, 64, 256) dtype=float32>\n",
      "  <tf.Variable 'conv2_block1_0_conv/bias:0' shape=(256,) dtype=float32>\n",
      "  <tf.Variable 'conv2_block1_3_conv/kernel:0' shape=(1, 1, 64, 256) dtype=float32>\n",
      "  <tf.Variable 'conv2_block1_3_conv/bias:0' shape=(256,) dtype=float32>\n",
      "  <tf.Variable 'conv2_block1_0_bn/gamma:0' shape=(256,) dtype=float32>\n",
      "  <tf.Variable 'conv2_block1_0_bn/beta:0' shape=(256,) dtype=float32>\n",
      "  <tf.Variable 'conv2_block1_3_bn/gamma:0' shape=(256,) dtype=float32>\n",
      "  <tf.Variable 'conv2_block1_3_bn/beta:0' shape=(256,) dtype=float32>\n",
      "  <tf.Variable 'conv2_block2_1_conv/kernel:0' shape=(1, 1, 256, 64) dtype=float32>\n",
      "  <tf.Variable 'conv2_block2_1_conv/bias:0' shape=(64,) dtype=float32>\n",
      "  <tf.Variable 'conv2_block2_1_bn/gamma:0' shape=(64,) dtype=float32>\n",
      "  <tf.Variable 'conv2_block2_1_bn/beta:0' shape=(64,) dtype=float32>\n",
      "  <tf.Variable 'conv2_block2_2_conv/kernel:0' shape=(3, 3, 64, 64) dtype=float32>\n",
      "  <tf.Variable 'conv2_block2_2_conv/bias:0' shape=(64,) dtype=float32>\n",
      "  <tf.Variable 'conv2_block2_2_bn/gamma:0' shape=(64,) dtype=float32>\n",
      "  <tf.Variable 'conv2_block2_2_bn/beta:0' shape=(64,) dtype=float32>\n",
      "  <tf.Variable 'conv2_block2_3_conv/kernel:0' shape=(1, 1, 64, 256) dtype=float32>\n",
      "  <tf.Variable 'conv2_block2_3_conv/bias:0' shape=(256,) dtype=float32>\n",
      "  <tf.Variable 'conv2_block2_3_bn/gamma:0' shape=(256,) dtype=float32>\n",
      "  <tf.Variable 'conv2_block2_3_bn/beta:0' shape=(256,) dtype=float32>\n",
      "  <tf.Variable 'conv2_block3_1_conv/kernel:0' shape=(1, 1, 256, 64) dtype=float32>\n",
      "  <tf.Variable 'conv2_block3_1_conv/bias:0' shape=(64,) dtype=float32>\n",
      "  <tf.Variable 'conv2_block3_1_bn/gamma:0' shape=(64,) dtype=float32>\n",
      "  <tf.Variable 'conv2_block3_1_bn/beta:0' shape=(64,) dtype=float32>\n",
      "  <tf.Variable 'conv2_block3_2_conv/kernel:0' shape=(3, 3, 64, 64) dtype=float32>\n",
      "  <tf.Variable 'conv2_block3_2_conv/bias:0' shape=(64,) dtype=float32>\n",
      "  <tf.Variable 'conv2_block3_2_bn/gamma:0' shape=(64,) dtype=float32>\n",
      "  <tf.Variable 'conv2_block3_2_bn/beta:0' shape=(64,) dtype=float32>\n",
      "  <tf.Variable 'conv2_block3_3_conv/kernel:0' shape=(1, 1, 64, 256) dtype=float32>\n",
      "  <tf.Variable 'conv2_block3_3_conv/bias:0' shape=(256,) dtype=float32>\n",
      "  <tf.Variable 'conv2_block3_3_bn/gamma:0' shape=(256,) dtype=float32>\n",
      "  <tf.Variable 'conv2_block3_3_bn/beta:0' shape=(256,) dtype=float32>\n",
      "  <tf.Variable 'conv3_block1_1_conv/kernel:0' shape=(1, 1, 256, 128) dtype=float32>\n",
      "  <tf.Variable 'conv3_block1_1_conv/bias:0' shape=(128,) dtype=float32>\n",
      "  <tf.Variable 'conv3_block1_1_bn/gamma:0' shape=(128,) dtype=float32>\n",
      "  <tf.Variable 'conv3_block1_1_bn/beta:0' shape=(128,) dtype=float32>\n",
      "  <tf.Variable 'conv3_block1_2_conv/kernel:0' shape=(3, 3, 128, 128) dtype=float32>\n",
      "  <tf.Variable 'conv3_block1_2_conv/bias:0' shape=(128,) dtype=float32>\n",
      "  <tf.Variable 'conv3_block1_2_bn/gamma:0' shape=(128,) dtype=float32>\n",
      "  <tf.Variable 'conv3_block1_2_bn/beta:0' shape=(128,) dtype=float32>\n",
      "  <tf.Variable 'conv3_block1_0_conv/kernel:0' shape=(1, 1, 256, 512) dtype=float32>\n",
      "  <tf.Variable 'conv3_block1_0_conv/bias:0' shape=(512,) dtype=float32>\n",
      "  <tf.Variable 'conv3_block1_3_conv/kernel:0' shape=(1, 1, 128, 512) dtype=float32>\n",
      "  <tf.Variable 'conv3_block1_3_conv/bias:0' shape=(512,) dtype=float32>\n",
      "  <tf.Variable 'conv3_block1_0_bn/gamma:0' shape=(512,) dtype=float32>\n",
      "  <tf.Variable 'conv3_block1_0_bn/beta:0' shape=(512,) dtype=float32>\n",
      "  <tf.Variable 'conv3_block1_3_bn/gamma:0' shape=(512,) dtype=float32>\n",
      "  <tf.Variable 'conv3_block1_3_bn/beta:0' shape=(512,) dtype=float32>\n",
      "  <tf.Variable 'conv3_block2_1_conv/kernel:0' shape=(1, 1, 512, 128) dtype=float32>\n",
      "  <tf.Variable 'conv3_block2_1_conv/bias:0' shape=(128,) dtype=float32>\n",
      "  <tf.Variable 'conv3_block2_1_bn/gamma:0' shape=(128,) dtype=float32>\n",
      "  <tf.Variable 'conv3_block2_1_bn/beta:0' shape=(128,) dtype=float32>\n",
      "  <tf.Variable 'conv3_block2_2_conv/kernel:0' shape=(3, 3, 128, 128) dtype=float32>\n",
      "  <tf.Variable 'conv3_block2_2_conv/bias:0' shape=(128,) dtype=float32>\n",
      "  <tf.Variable 'conv3_block2_2_bn/gamma:0' shape=(128,) dtype=float32>\n",
      "  <tf.Variable 'conv3_block2_2_bn/beta:0' shape=(128,) dtype=float32>\n",
      "  <tf.Variable 'conv3_block2_3_conv/kernel:0' shape=(1, 1, 128, 512) dtype=float32>\n",
      "  <tf.Variable 'conv3_block2_3_conv/bias:0' shape=(512,) dtype=float32>\n",
      "  <tf.Variable 'conv3_block2_3_bn/gamma:0' shape=(512,) dtype=float32>\n",
      "  <tf.Variable 'conv3_block2_3_bn/beta:0' shape=(512,) dtype=float32>\n",
      "  <tf.Variable 'conv3_block3_1_conv/kernel:0' shape=(1, 1, 512, 128) dtype=float32>\n",
      "  <tf.Variable 'conv3_block3_1_conv/bias:0' shape=(128,) dtype=float32>\n",
      "  <tf.Variable 'conv3_block3_1_bn/gamma:0' shape=(128,) dtype=float32>\n",
      "  <tf.Variable 'conv3_block3_1_bn/beta:0' shape=(128,) dtype=float32>\n",
      "  <tf.Variable 'conv3_block3_2_conv/kernel:0' shape=(3, 3, 128, 128) dtype=float32>\n",
      "  <tf.Variable 'conv3_block3_2_conv/bias:0' shape=(128,) dtype=float32>\n",
      "  <tf.Variable 'conv3_block3_2_bn/gamma:0' shape=(128,) dtype=float32>\n",
      "  <tf.Variable 'conv3_block3_2_bn/beta:0' shape=(128,) dtype=float32>\n",
      "  <tf.Variable 'conv3_block3_3_conv/kernel:0' shape=(1, 1, 128, 512) dtype=float32>\n",
      "  <tf.Variable 'conv3_block3_3_conv/bias:0' shape=(512,) dtype=float32>\n",
      "  <tf.Variable 'conv3_block3_3_bn/gamma:0' shape=(512,) dtype=float32>\n",
      "  <tf.Variable 'conv3_block3_3_bn/beta:0' shape=(512,) dtype=float32>\n",
      "  <tf.Variable 'conv3_block4_1_conv/kernel:0' shape=(1, 1, 512, 128) dtype=float32>\n",
      "  <tf.Variable 'conv3_block4_1_conv/bias:0' shape=(128,) dtype=float32>\n",
      "  <tf.Variable 'conv3_block4_1_bn/gamma:0' shape=(128,) dtype=float32>\n",
      "  <tf.Variable 'conv3_block4_1_bn/beta:0' shape=(128,) dtype=float32>\n",
      "  <tf.Variable 'conv3_block4_2_conv/kernel:0' shape=(3, 3, 128, 128) dtype=float32>\n",
      "  <tf.Variable 'conv3_block4_2_conv/bias:0' shape=(128,) dtype=float32>\n",
      "  <tf.Variable 'conv3_block4_2_bn/gamma:0' shape=(128,) dtype=float32>\n",
      "  <tf.Variable 'conv3_block4_2_bn/beta:0' shape=(128,) dtype=float32>\n",
      "  <tf.Variable 'conv3_block4_3_conv/kernel:0' shape=(1, 1, 128, 512) dtype=float32>\n",
      "  <tf.Variable 'conv3_block4_3_conv/bias:0' shape=(512,) dtype=float32>\n",
      "  <tf.Variable 'conv3_block4_3_bn/gamma:0' shape=(512,) dtype=float32>\n",
      "  <tf.Variable 'conv3_block4_3_bn/beta:0' shape=(512,) dtype=float32>\n",
      "  <tf.Variable 'conv4_block1_1_conv/kernel:0' shape=(1, 1, 512, 256) dtype=float32>\n",
      "  <tf.Variable 'conv4_block1_1_conv/bias:0' shape=(256,) dtype=float32>\n",
      "  <tf.Variable 'conv4_block1_1_bn/gamma:0' shape=(256,) dtype=float32>\n",
      "  <tf.Variable 'conv4_block1_1_bn/beta:0' shape=(256,) dtype=float32>\n",
      "  <tf.Variable 'conv4_block1_2_conv/kernel:0' shape=(3, 3, 256, 256) dtype=float32>\n",
      "  <tf.Variable 'conv4_block1_2_conv/bias:0' shape=(256,) dtype=float32>\n",
      "  <tf.Variable 'conv4_block1_2_bn/gamma:0' shape=(256,) dtype=float32>\n",
      "  <tf.Variable 'conv4_block1_2_bn/beta:0' shape=(256,) dtype=float32>\n",
      "  <tf.Variable 'conv4_block1_0_conv/kernel:0' shape=(1, 1, 512, 1024) dtype=float32>\n",
      "  <tf.Variable 'conv4_block1_0_conv/bias:0' shape=(1024,) dtype=float32>\n",
      "  <tf.Variable 'conv4_block1_3_conv/kernel:0' shape=(1, 1, 256, 1024) dtype=float32>\n",
      "  <tf.Variable 'conv4_block1_3_conv/bias:0' shape=(1024,) dtype=float32>\n",
      "  <tf.Variable 'conv4_block1_0_bn/gamma:0' shape=(1024,) dtype=float32>\n",
      "  <tf.Variable 'conv4_block1_0_bn/beta:0' shape=(1024,) dtype=float32>\n",
      "  <tf.Variable 'conv4_block1_3_bn/gamma:0' shape=(1024,) dtype=float32>\n",
      "  <tf.Variable 'conv4_block1_3_bn/beta:0' shape=(1024,) dtype=float32>\n",
      "  <tf.Variable 'conv4_block2_1_conv/kernel:0' shape=(1, 1, 1024, 256) dtype=float32>\n",
      "  <tf.Variable 'conv4_block2_1_conv/bias:0' shape=(256,) dtype=float32>\n",
      "  <tf.Variable 'conv4_block2_1_bn/gamma:0' shape=(256,) dtype=float32>\n",
      "  <tf.Variable 'conv4_block2_1_bn/beta:0' shape=(256,) dtype=float32>\n",
      "  <tf.Variable 'conv4_block2_2_conv/kernel:0' shape=(3, 3, 256, 256) dtype=float32>\n",
      "  <tf.Variable 'conv4_block2_2_conv/bias:0' shape=(256,) dtype=float32>\n",
      "  <tf.Variable 'conv4_block2_2_bn/gamma:0' shape=(256,) dtype=float32>\n",
      "  <tf.Variable 'conv4_block2_2_bn/beta:0' shape=(256,) dtype=float32>\n",
      "  <tf.Variable 'conv4_block2_3_conv/kernel:0' shape=(1, 1, 256, 1024) dtype=float32>\n",
      "  <tf.Variable 'conv4_block2_3_conv/bias:0' shape=(1024,) dtype=float32>\n",
      "  <tf.Variable 'conv4_block2_3_bn/gamma:0' shape=(1024,) dtype=float32>\n",
      "  <tf.Variable 'conv4_block2_3_bn/beta:0' shape=(1024,) dtype=float32>\n",
      "  <tf.Variable 'conv4_block3_1_conv/kernel:0' shape=(1, 1, 1024, 256) dtype=float32>\n",
      "  <tf.Variable 'conv4_block3_1_conv/bias:0' shape=(256,) dtype=float32>\n",
      "  <tf.Variable 'conv4_block3_1_bn/gamma:0' shape=(256,) dtype=float32>\n",
      "  <tf.Variable 'conv4_block3_1_bn/beta:0' shape=(256,) dtype=float32>\n",
      "  <tf.Variable 'conv4_block3_2_conv/kernel:0' shape=(3, 3, 256, 256) dtype=float32>\n",
      "  <tf.Variable 'conv4_block3_2_conv/bias:0' shape=(256,) dtype=float32>\n",
      "  <tf.Variable 'conv4_block3_2_bn/gamma:0' shape=(256,) dtype=float32>\n",
      "  <tf.Variable 'conv4_block3_2_bn/beta:0' shape=(256,) dtype=float32>\n",
      "  <tf.Variable 'conv4_block3_3_conv/kernel:0' shape=(1, 1, 256, 1024) dtype=float32>\n",
      "  <tf.Variable 'conv4_block3_3_conv/bias:0' shape=(1024,) dtype=float32>\n",
      "  <tf.Variable 'conv4_block3_3_bn/gamma:0' shape=(1024,) dtype=float32>\n",
      "  <tf.Variable 'conv4_block3_3_bn/beta:0' shape=(1024,) dtype=float32>\n",
      "  <tf.Variable 'conv4_block4_1_conv/kernel:0' shape=(1, 1, 1024, 256) dtype=float32>\n",
      "  <tf.Variable 'conv4_block4_1_conv/bias:0' shape=(256,) dtype=float32>\n",
      "  <tf.Variable 'conv4_block4_1_bn/gamma:0' shape=(256,) dtype=float32>\n",
      "  <tf.Variable 'conv4_block4_1_bn/beta:0' shape=(256,) dtype=float32>\n",
      "  <tf.Variable 'conv4_block4_2_conv/kernel:0' shape=(3, 3, 256, 256) dtype=float32>\n",
      "  <tf.Variable 'conv4_block4_2_conv/bias:0' shape=(256,) dtype=float32>\n",
      "  <tf.Variable 'conv4_block4_2_bn/gamma:0' shape=(256,) dtype=float32>\n",
      "  <tf.Variable 'conv4_block4_2_bn/beta:0' shape=(256,) dtype=float32>\n",
      "  <tf.Variable 'conv4_block4_3_conv/kernel:0' shape=(1, 1, 256, 1024) dtype=float32>\n",
      "  <tf.Variable 'conv4_block4_3_conv/bias:0' shape=(1024,) dtype=float32>\n",
      "  <tf.Variable 'conv4_block4_3_bn/gamma:0' shape=(1024,) dtype=float32>\n",
      "  <tf.Variable 'conv4_block4_3_bn/beta:0' shape=(1024,) dtype=float32>\n",
      "  <tf.Variable 'conv4_block5_1_conv/kernel:0' shape=(1, 1, 1024, 256) dtype=float32>\n",
      "  <tf.Variable 'conv4_block5_1_conv/bias:0' shape=(256,) dtype=float32>\n",
      "  <tf.Variable 'conv4_block5_1_bn/gamma:0' shape=(256,) dtype=float32>\n",
      "  <tf.Variable 'conv4_block5_1_bn/beta:0' shape=(256,) dtype=float32>\n",
      "  <tf.Variable 'conv4_block5_2_conv/kernel:0' shape=(3, 3, 256, 256) dtype=float32>\n",
      "  <tf.Variable 'conv4_block5_2_conv/bias:0' shape=(256,) dtype=float32>\n",
      "  <tf.Variable 'conv4_block5_2_bn/gamma:0' shape=(256,) dtype=float32>\n",
      "  <tf.Variable 'conv4_block5_2_bn/beta:0' shape=(256,) dtype=float32>\n",
      "  <tf.Variable 'conv4_block5_3_conv/kernel:0' shape=(1, 1, 256, 1024) dtype=float32>\n",
      "  <tf.Variable 'conv4_block5_3_conv/bias:0' shape=(1024,) dtype=float32>\n",
      "  <tf.Variable 'conv4_block5_3_bn/gamma:0' shape=(1024,) dtype=float32>\n",
      "  <tf.Variable 'conv4_block5_3_bn/beta:0' shape=(1024,) dtype=float32>\n",
      "  <tf.Variable 'conv4_block6_1_conv/kernel:0' shape=(1, 1, 1024, 256) dtype=float32>\n",
      "  <tf.Variable 'conv4_block6_1_conv/bias:0' shape=(256,) dtype=float32>\n",
      "  <tf.Variable 'conv4_block6_1_bn/gamma:0' shape=(256,) dtype=float32>\n",
      "  <tf.Variable 'conv4_block6_1_bn/beta:0' shape=(256,) dtype=float32>\n",
      "  <tf.Variable 'conv4_block6_2_conv/kernel:0' shape=(3, 3, 256, 256) dtype=float32>\n",
      "  <tf.Variable 'conv4_block6_2_conv/bias:0' shape=(256,) dtype=float32>\n",
      "  <tf.Variable 'conv4_block6_2_bn/gamma:0' shape=(256,) dtype=float32>\n",
      "  <tf.Variable 'conv4_block6_2_bn/beta:0' shape=(256,) dtype=float32>\n",
      "  <tf.Variable 'conv4_block6_3_conv/kernel:0' shape=(1, 1, 256, 1024) dtype=float32>\n",
      "  <tf.Variable 'conv4_block6_3_conv/bias:0' shape=(1024,) dtype=float32>\n",
      "  <tf.Variable 'conv4_block6_3_bn/gamma:0' shape=(1024,) dtype=float32>\n",
      "  <tf.Variable 'conv4_block6_3_bn/beta:0' shape=(1024,) dtype=float32>\n",
      "  <tf.Variable 'conv5_block1_1_conv/kernel:0' shape=(1, 1, 1024, 512) dtype=float32>\n",
      "  <tf.Variable 'conv5_block1_1_conv/bias:0' shape=(512,) dtype=float32>\n",
      "  <tf.Variable 'conv5_block1_1_bn/gamma:0' shape=(512,) dtype=float32>\n",
      "  <tf.Variable 'conv5_block1_1_bn/beta:0' shape=(512,) dtype=float32>\n",
      "  <tf.Variable 'conv5_block1_2_conv/kernel:0' shape=(3, 3, 512, 512) dtype=float32>\n",
      "  <tf.Variable 'conv5_block1_2_conv/bias:0' shape=(512,) dtype=float32>\n",
      "  <tf.Variable 'conv5_block1_2_bn/gamma:0' shape=(512,) dtype=float32>\n",
      "  <tf.Variable 'conv5_block1_2_bn/beta:0' shape=(512,) dtype=float32>\n",
      "  <tf.Variable 'conv5_block1_0_conv/kernel:0' shape=(1, 1, 1024, 2048) dtype=float32>\n",
      "  <tf.Variable 'conv5_block1_0_conv/bias:0' shape=(2048,) dtype=float32>\n",
      "  <tf.Variable 'conv5_block1_3_conv/kernel:0' shape=(1, 1, 512, 2048) dtype=float32>\n",
      "  <tf.Variable 'conv5_block1_3_conv/bias:0' shape=(2048,) dtype=float32>\n",
      "  <tf.Variable 'conv5_block1_0_bn/gamma:0' shape=(2048,) dtype=float32>\n",
      "  <tf.Variable 'conv5_block1_0_bn/beta:0' shape=(2048,) dtype=float32>\n",
      "  <tf.Variable 'conv5_block1_3_bn/gamma:0' shape=(2048,) dtype=float32>\n",
      "  <tf.Variable 'conv5_block1_3_bn/beta:0' shape=(2048,) dtype=float32>\n",
      "  <tf.Variable 'conv5_block2_1_conv/kernel:0' shape=(1, 1, 2048, 512) dtype=float32>\n",
      "  <tf.Variable 'conv5_block2_1_conv/bias:0' shape=(512,) dtype=float32>\n",
      "  <tf.Variable 'conv5_block2_1_bn/gamma:0' shape=(512,) dtype=float32>\n",
      "  <tf.Variable 'conv5_block2_1_bn/beta:0' shape=(512,) dtype=float32>\n",
      "  <tf.Variable 'conv5_block2_2_conv/kernel:0' shape=(3, 3, 512, 512) dtype=float32>\n",
      "  <tf.Variable 'conv5_block2_2_conv/bias:0' shape=(512,) dtype=float32>\n",
      "  <tf.Variable 'conv5_block2_2_bn/gamma:0' shape=(512,) dtype=float32>\n",
      "  <tf.Variable 'conv5_block2_2_bn/beta:0' shape=(512,) dtype=float32>\n",
      "  <tf.Variable 'conv5_block2_3_conv/kernel:0' shape=(1, 1, 512, 2048) dtype=float32>\n",
      "  <tf.Variable 'conv5_block2_3_conv/bias:0' shape=(2048,) dtype=float32>\n",
      "  <tf.Variable 'conv5_block2_3_bn/gamma:0' shape=(2048,) dtype=float32>\n",
      "  <tf.Variable 'conv5_block2_3_bn/beta:0' shape=(2048,) dtype=float32>\n",
      "  <tf.Variable 'conv5_block3_1_conv/kernel:0' shape=(1, 1, 2048, 512) dtype=float32>\n",
      "  <tf.Variable 'conv5_block3_1_conv/bias:0' shape=(512,) dtype=float32>\n",
      "  <tf.Variable 'conv5_block3_1_bn/gamma:0' shape=(512,) dtype=float32>\n",
      "  <tf.Variable 'conv5_block3_1_bn/beta:0' shape=(512,) dtype=float32>\n",
      "  <tf.Variable 'conv5_block3_2_conv/kernel:0' shape=(3, 3, 512, 512) dtype=float32>\n",
      "  <tf.Variable 'conv5_block3_2_conv/bias:0' shape=(512,) dtype=float32>\n",
      "  <tf.Variable 'conv5_block3_2_bn/gamma:0' shape=(512,) dtype=float32>\n",
      "  <tf.Variable 'conv5_block3_2_bn/beta:0' shape=(512,) dtype=float32>\n",
      "  <tf.Variable 'conv5_block3_3_conv/kernel:0' shape=(1, 1, 512, 2048) dtype=float32>\n",
      "  <tf.Variable 'conv5_block3_3_conv/bias:0' shape=(2048,) dtype=float32>\n",
      "  <tf.Variable 'conv5_block3_3_bn/gamma:0' shape=(2048,) dtype=float32>\n",
      "  <tf.Variable 'conv5_block3_3_bn/beta:0' shape=(2048,) dtype=float32>\n",
      "It is possible that this is intended behavior, but it is more likely\n",
      "an omission. This is a strong indication that this layer should be\n",
      "formulated as a subclassed Layer rather than a Lambda layer.\n"
     ]
    },
    {
     "name": "stdout",
     "output_type": "stream",
     "text": [
      "value of step 0\n",
      "value of initial epoch 0\n",
      "value of stop epoch 50\n",
      "value of model_trainable in poisoner True\n",
      "Epoch 1/25\n",
      "390/390 [==============================] - 24s 51ms/step - loss: 0.0784 - accuracy: 0.9739\n",
      "Epoch 2/25\n",
      "390/390 [==============================] - 19s 49ms/step - loss: 0.0685 - accuracy: 0.97620s - loss: 0\n",
      "Epoch 3/25\n",
      "390/390 [==============================] - 19s 50ms/step - loss: 0.0644 - accuracy: 0.9779\n",
      "Epoch 4/25\n",
      "390/390 [==============================] - 20s 51ms/step - loss: 0.0612 - accuracy: 0.9799\n",
      "Epoch 5/25\n",
      "390/390 [==============================] - 20s 50ms/step - loss: 0.0599 - accuracy: 0.9798\n",
      "Epoch 6/25\n",
      "390/390 [==============================] - 20s 52ms/step - loss: 0.0563 - accuracy: 0.9811\n",
      "Epoch 7/25\n",
      "390/390 [==============================] - 20s 50ms/step - loss: 0.0586 - accuracy: 0.9795\n",
      "Epoch 8/25\n",
      "390/390 [==============================] - 19s 49ms/step - loss: 0.0530 - accuracy: 0.9823\n",
      "Epoch 9/25\n",
      "390/390 [==============================] - 19s 49ms/step - loss: 0.0540 - accuracy: 0.9811\n",
      "Epoch 10/25\n",
      "390/390 [==============================] - 19s 49ms/step - loss: 0.0537 - accuracy: 0.9823\n",
      "Epoch 11/25\n",
      "390/390 [==============================] - 19s 49ms/step - loss: 0.0514 - accuracy: 0.9822\n",
      "Epoch 12/25\n",
      "390/390 [==============================] - 20s 50ms/step - loss: 0.0499 - accuracy: 0.9832\n",
      "Epoch 13/25\n",
      "390/390 [==============================] - 19s 49ms/step - loss: 0.0508 - accuracy: 0.9826\n",
      "Epoch 14/25\n",
      "390/390 [==============================] - 19s 49ms/step - loss: 0.0506 - accuracy: 0.9826\n",
      "Epoch 15/25\n",
      "390/390 [==============================] - 20s 50ms/step - loss: 0.0514 - accuracy: 0.9824\n",
      "Epoch 16/25\n",
      "390/390 [==============================] - 19s 49ms/step - loss: 0.0509 - accuracy: 0.9829\n",
      "Epoch 17/25\n",
      "390/390 [==============================] - 19s 49ms/step - loss: 0.0456 - accuracy: 0.9845\n",
      "Epoch 18/25\n",
      "390/390 [==============================] - 19s 50ms/step - loss: 0.0468 - accuracy: 0.9840\n",
      "Epoch 19/25\n",
      "390/390 [==============================] - 20s 51ms/step - loss: 0.0464 - accuracy: 0.9840\n",
      "Epoch 20/25\n",
      "390/390 [==============================] - 19s 50ms/step - loss: 0.0466 - accuracy: 0.9844\n",
      "Epoch 21/25\n",
      "390/390 [==============================] - 19s 49ms/step - loss: 0.0448 - accuracy: 0.9851\n",
      "Epoch 22/25\n",
      "390/390 [==============================] - 19s 49ms/step - loss: 0.0447 - accuracy: 0.9849\n",
      "Epoch 23/25\n",
      "390/390 [==============================] - 19s 49ms/step - loss: 0.0436 - accuracy: 0.9854\n",
      "Epoch 24/25\n",
      "390/390 [==============================] - 20s 51ms/step - loss: 0.0408 - accuracy: 0.9866\n",
      "Epoch 25/25\n",
      "390/390 [==============================] - 19s 49ms/step - loss: 0.0430 - accuracy: 0.9854\n",
      "shape of x_poisoned (500, 32, 32, 3)\n",
      "shape of x_train (50000, 32, 32, 3)\n",
      "value of step 50\n",
      "value of initial epoch 50\n",
      "value of stop epoch 100\n",
      "value of model_trainable in poisoner True\n",
      "Epoch 1/25\n",
      "390/390 [==============================] - 19s 50ms/step - loss: 0.0621 - accuracy: 0.9814\n",
      "Epoch 2/25\n",
      "390/390 [==============================] - 20s 50ms/step - loss: 0.0555 - accuracy: 0.9825\n",
      "Epoch 3/25\n",
      "390/390 [==============================] - 19s 48ms/step - loss: 0.0542 - accuracy: 0.9827\n",
      "Epoch 4/25\n",
      "390/390 [==============================] - 19s 48ms/step - loss: 0.0487 - accuracy: 0.9842\n",
      "Epoch 5/25\n",
      "390/390 [==============================] - 20s 50ms/step - loss: 0.0465 - accuracy: 0.9847\n",
      "Epoch 6/25\n",
      "390/390 [==============================] - 19s 49ms/step - loss: 0.0485 - accuracy: 0.9842\n",
      "Epoch 7/25\n",
      "390/390 [==============================] - 19s 49ms/step - loss: 0.0483 - accuracy: 0.9840\n",
      "Epoch 8/25\n",
      "390/390 [==============================] - 19s 49ms/step - loss: 0.0488 - accuracy: 0.9836\n",
      "Epoch 9/25\n",
      "390/390 [==============================] - 19s 48ms/step - loss: 0.0462 - accuracy: 0.9844\n",
      "Epoch 10/25\n",
      "390/390 [==============================] - 20s 50ms/step - loss: 0.0439 - accuracy: 0.9860\n",
      "Epoch 11/25\n",
      "390/390 [==============================] - 19s 50ms/step - loss: 0.0474 - accuracy: 0.9839\n",
      "Epoch 12/25\n",
      "390/390 [==============================] - 20s 50ms/step - loss: 0.0415 - accuracy: 0.9855\n",
      "Epoch 13/25\n",
      "390/390 [==============================] - 19s 50ms/step - loss: 0.0400 - accuracy: 0.9864\n",
      "Epoch 14/25\n",
      "390/390 [==============================] - 19s 50ms/step - loss: 0.0427 - accuracy: 0.9859\n",
      "Epoch 15/25\n",
      "390/390 [==============================] - 19s 50ms/step - loss: 0.0405 - accuracy: 0.9864\n",
      "Epoch 16/25\n",
      "390/390 [==============================] - 20s 50ms/step - loss: 0.0424 - accuracy: 0.9861\n",
      "Epoch 17/25\n",
      "390/390 [==============================] - 19s 49ms/step - loss: 0.0419 - accuracy: 0.9859\n",
      "Epoch 18/25\n",
      "390/390 [==============================] - 19s 49ms/step - loss: 0.0419 - accuracy: 0.9855\n",
      "Epoch 19/25\n",
      "390/390 [==============================] - 20s 50ms/step - loss: 0.0409 - accuracy: 0.9865\n",
      "Epoch 20/25\n",
      "390/390 [==============================] - 19s 50ms/step - loss: 0.0402 - accuracy: 0.9866\n",
      "Epoch 21/25\n",
      "390/390 [==============================] - 20s 50ms/step - loss: 0.0386 - accuracy: 0.9867\n",
      "Epoch 22/25\n",
      "390/390 [==============================] - 20s 50ms/step - loss: 0.0391 - accuracy: 0.9864\n",
      "Epoch 23/25\n",
      "390/390 [==============================] - 20s 51ms/step - loss: 0.0396 - accuracy: 0.9867\n",
      "Epoch 24/25\n",
      "390/390 [==============================] - 20s 50ms/step - loss: 0.0387 - accuracy: 0.98690s - loss: 0.0386 - accuracy: 0.\n",
      "Epoch 25/25\n",
      "390/390 [==============================] - 19s 49ms/step - loss: 0.0368 - accuracy: 0.9878\n",
      "shape of x_poisoned (500, 32, 32, 3)\n",
      "shape of x_train (50000, 32, 32, 3)\n",
      "value of step 100\n",
      "value of initial epoch 100\n",
      "value of stop epoch 150\n",
      "value of model_trainable in poisoner True\n",
      "Epoch 1/25\n",
      "390/390 [==============================] - 19s 50ms/step - loss: 0.0400 - accuracy: 0.9865\n",
      "Epoch 2/25\n",
      "390/390 [==============================] - 19s 50ms/step - loss: 0.0363 - accuracy: 0.9876\n",
      "Epoch 3/25\n",
      "390/390 [==============================] - 19s 49ms/step - loss: 0.0381 - accuracy: 0.9869\n",
      "Epoch 4/25\n",
      "390/390 [==============================] - 19s 50ms/step - loss: 0.0375 - accuracy: 0.9874\n",
      "Epoch 5/25\n",
      "390/390 [==============================] - 20s 50ms/step - loss: 0.0351 - accuracy: 0.9879\n",
      "Epoch 6/25\n",
      "390/390 [==============================] - 19s 50ms/step - loss: 0.0363 - accuracy: 0.9872\n",
      "Epoch 7/25\n",
      "390/390 [==============================] - 19s 48ms/step - loss: 0.0349 - accuracy: 0.9882\n",
      "Epoch 8/25\n",
      "390/390 [==============================] - 19s 49ms/step - loss: 0.0359 - accuracy: 0.9883\n",
      "Epoch 9/25\n",
      "390/390 [==============================] - 20s 50ms/step - loss: 0.0381 - accuracy: 0.9879\n",
      "Epoch 10/25\n",
      "390/390 [==============================] - 20s 50ms/step - loss: 0.0348 - accuracy: 0.9879\n",
      "Epoch 11/25\n",
      "390/390 [==============================] - 19s 50ms/step - loss: 0.0347 - accuracy: 0.9885\n",
      "Epoch 12/25\n",
      "390/390 [==============================] - 20s 52ms/step - loss: 0.0351 - accuracy: 0.9878\n",
      "Epoch 13/25\n",
      "390/390 [==============================] - 20s 51ms/step - loss: 0.0357 - accuracy: 0.9884\n",
      "Epoch 14/25\n",
      "390/390 [==============================] - 20s 51ms/step - loss: 0.0357 - accuracy: 0.9876\n",
      "Epoch 15/25\n",
      "390/390 [==============================] - 20s 51ms/step - loss: 0.0325 - accuracy: 0.9886\n",
      "Epoch 16/25\n",
      "390/390 [==============================] - 20s 51ms/step - loss: 0.0337 - accuracy: 0.9890\n",
      "Epoch 17/25\n",
      "390/390 [==============================] - 19s 50ms/step - loss: 0.0332 - accuracy: 0.9885\n",
      "Epoch 18/25\n",
      "390/390 [==============================] - 20s 50ms/step - loss: 0.0347 - accuracy: 0.9878\n",
      "Epoch 19/25\n",
      "390/390 [==============================] - 19s 49ms/step - loss: 0.0327 - accuracy: 0.9887\n",
      "Epoch 20/25\n",
      "390/390 [==============================] - 19s 50ms/step - loss: 0.0287 - accuracy: 0.9905\n",
      "Epoch 21/25\n",
      "390/390 [==============================] - 19s 48ms/step - loss: 0.0334 - accuracy: 0.9893\n",
      "Epoch 22/25\n",
      "390/390 [==============================] - 20s 50ms/step - loss: 0.0352 - accuracy: 0.9879\n",
      "Epoch 23/25\n",
      "390/390 [==============================] - 19s 49ms/step - loss: 0.0314 - accuracy: 0.9895\n",
      "Epoch 24/25\n",
      "390/390 [==============================] - 19s 49ms/step - loss: 0.0311 - accuracy: 0.9893\n",
      "Epoch 25/25\n",
      "390/390 [==============================] - 20s 50ms/step - loss: 0.0342 - accuracy: 0.9882\n",
      "shape of x_poisoned (500, 32, 32, 3)\n",
      "shape of x_train (50000, 32, 32, 3)\n",
      "value of step 150\n",
      "value of initial epoch 150\n",
      "value of stop epoch 200\n",
      "value of model_trainable in poisoner True\n",
      "Epoch 1/25\n",
      "390/390 [==============================] - 20s 51ms/step - loss: 0.0314 - accuracy: 0.9893\n",
      "Epoch 2/25\n",
      "390/390 [==============================] - 20s 52ms/step - loss: 0.0309 - accuracy: 0.9893\n",
      "Epoch 3/25\n",
      "390/390 [==============================] - 20s 51ms/step - loss: 0.0297 - accuracy: 0.9901\n",
      "Epoch 4/25\n",
      "390/390 [==============================] - 20s 51ms/step - loss: 0.0307 - accuracy: 0.9897\n",
      "Epoch 5/25\n",
      "390/390 [==============================] - 20s 51ms/step - loss: 0.0320 - accuracy: 0.9892\n",
      "Epoch 6/25\n",
      "390/390 [==============================] - 20s 50ms/step - loss: 0.0322 - accuracy: 0.9893\n",
      "Epoch 7/25\n",
      "390/390 [==============================] - 20s 51ms/step - loss: 0.0311 - accuracy: 0.9892\n",
      "Epoch 8/25\n",
      "390/390 [==============================] - 20s 51ms/step - loss: 0.0322 - accuracy: 0.9886\n",
      "Epoch 9/25\n",
      "390/390 [==============================] - 20s 51ms/step - loss: 0.0310 - accuracy: 0.9896\n",
      "Epoch 10/25\n",
      "390/390 [==============================] - 20s 51ms/step - loss: 0.0297 - accuracy: 0.9900\n",
      "Epoch 11/25\n",
      "390/390 [==============================] - 20s 51ms/step - loss: 0.0292 - accuracy: 0.9901\n",
      "Epoch 12/25\n",
      "390/390 [==============================] - 20s 50ms/step - loss: 0.0308 - accuracy: 0.9904\n",
      "Epoch 13/25\n",
      "390/390 [==============================] - 20s 50ms/step - loss: 0.0286 - accuracy: 0.9906\n",
      "Epoch 14/25\n",
      "390/390 [==============================] - 20s 50ms/step - loss: 0.0316 - accuracy: 0.9894\n",
      "Epoch 15/25\n",
      "390/390 [==============================] - 20s 51ms/step - loss: 0.0278 - accuracy: 0.9905\n",
      "Epoch 16/25\n",
      "390/390 [==============================] - 20s 51ms/step - loss: 0.0289 - accuracy: 0.9903\n",
      "Epoch 17/25\n",
      "390/390 [==============================] - 19s 50ms/step - loss: 0.0303 - accuracy: 0.9897\n",
      "Epoch 18/25\n",
      "390/390 [==============================] - 19s 49ms/step - loss: 0.0283 - accuracy: 0.9906\n",
      "Epoch 19/25\n",
      "390/390 [==============================] - 19s 50ms/step - loss: 0.0285 - accuracy: 0.9903\n",
      "Epoch 20/25\n",
      "390/390 [==============================] - 19s 50ms/step - loss: 0.0280 - accuracy: 0.9908\n",
      "Epoch 21/25\n",
      "390/390 [==============================] - 20s 50ms/step - loss: 0.0302 - accuracy: 0.9894\n",
      "Epoch 22/25\n",
      "390/390 [==============================] - 20s 50ms/step - loss: 0.0296 - accuracy: 0.9899\n",
      "Epoch 23/25\n",
      "390/390 [==============================] - 20s 50ms/step - loss: 0.0296 - accuracy: 0.9899\n",
      "Epoch 24/25\n",
      "390/390 [==============================] - 20s 50ms/step - loss: 0.0296 - accuracy: 0.9903\n",
      "Epoch 25/25\n",
      "390/390 [==============================] - 19s 49ms/step - loss: 0.0271 - accuracy: 0.9909\n",
      "shape of x_poisoned (500, 32, 32, 3)\n",
      "shape of x_train (50000, 32, 32, 3)\n"
     ]
    }
   ],
   "source": [
    "from art.attacks.poisoning.gradient_matching_attack import GradientMatchingAttack\n",
    "\n",
    "# epsilson = (0.1/(std+1e-7))*0.2\n",
    "\n",
    "epsilson = 0.1/(std+1e-7)\n",
    "print(epsilson)\n",
    "\n",
    "attack = GradientMatchingAttack(model_art,\n",
    "        percent_poison=0.01,\n",
    "        max_trials=1,\n",
    "        max_epochs=200,\n",
    "        clip_values=(min_,max_),\n",
    "        epsilon=epsilson,\n",
    "        verbose=False,\n",
    "        selection_strategy = \"max_grad_norm\",\n",
    "        retraining_factor = 4,  \n",
    "        retrain_epoch = 25,\n",
    "        patch_array = p,\n",
    "        target_class = class_target)                        \n",
    "\n",
    "# max_grad_norm - selecting indices takes 20 min for 10,000 samples\n",
    "x_poison, y_poison = attack.poison(x_trigger, y_trigger, x_train, y_train)\n"
   ]
  },
  {
   "cell_type": "markdown",
   "metadata": {},
   "source": [
    "## Examples of the trigger, an original sample, and the poisoned sample"
   ]
  },
  {
   "cell_type": "code",
   "execution_count": 7,
   "metadata": {},
   "outputs": [
    {
     "name": "stderr",
     "output_type": "stream",
     "text": [
      "Clipping input data to the valid range for imshow with RGB data ([0..1] for floats or [0..255] for integers).\n"
     ]
    },
    {
     "data": {
      "image/png": "[encoded data removed]",
      "text/plain": [
       "<Figure size 432x288 with 1 Axes>"
      ]
     },
     "metadata": {
      "needs_background": "light"
     },
     "output_type": "display_data"
    },
    {
     "data": {
      "image/png": "[encoded data removed]",
      "text/plain": [
       "<Figure size 432x288 with 1 Axes>"
      ]
     },
     "metadata": {
      "needs_background": "light"
     },
     "output_type": "display_data"
    },
    {
     "data": {
      "image/png": "[encoded data removed]",
      "text/plain": [
       "<Figure size 432x288 with 1 Axes>"
      ]
     },
     "metadata": {
      "needs_background": "light"
     },
     "output_type": "display_data"
    },
    {
     "data": {
      "image/png": "[encoded data removed]",
      "text/plain": [
       "<Figure size 432x288 with 1 Axes>"
      ]
     },
     "metadata": {
      "needs_background": "light"
     },
     "output_type": "display_data"
    }
   ],
   "source": [
    "import matplotlib.pyplot as plt\n",
    "plt.imshow(x_trigger[0])\n",
    "plt.title('Trigger image')\n",
    "plt.show()\n",
    "\n",
    "\n",
    "plt.imshow(x_trigger[0]*(std+1e-7)+mean)\n",
    "plt.title('Trigger image')\n",
    "plt.show()\n",
    "\n",
    "index_poisoned_example = np.where([np.any(p!=o) for (p,o) in zip(x_poison,x_train)])[0]\n",
    "plt.imshow(x_train[index_poisoned_example[0]]*(std+1e-7)+mean)\n",
    "plt.title('Original image')\n",
    "plt.show()\n",
    "\n",
    "plt.imshow(x_poison[index_poisoned_example[0]]*(std+1e-7)+mean)\n",
    "plt.title('Poisoned image')\n",
    "plt.show()\n"
   ]
  },
  {
   "cell_type": "markdown",
   "metadata": {},
   "source": [
    "## Training with Poison Images"
   ]
  },
  {
   "cell_type": "markdown",
   "metadata": {},
   "source": [
    "These attacks allow adversaries who can poison your dataset the ability to mislabel any particular target instance of their choosing without manipulating labels."
   ]
  },
  {
   "cell_type": "code",
   "execution_count": 8,
   "metadata": {},
   "outputs": [],
   "source": [
    "def create_model(x_train, y_train, num_classes=10, batch_size=64, epochs=25):\n",
    "    model = Sequential([\n",
    "        tf.keras.applications.ResNet50(input_shape=x_train.shape[1:], include_top=False, weights=None),\n",
    "        Flatten(),\n",
    "        Dense(num_classes, activation='softmax')\n",
    "    ])\n",
    "\n",
    "    model.compile(loss='categorical_crossentropy', optimizer='sgd', metrics=['accuracy'])\n",
    "\n",
    "    datagen = ImageDataGenerator(\n",
    "        featurewise_center=False,\n",
    "        samplewise_center=False,\n",
    "        featurewise_std_normalization=False,\n",
    "        samplewise_std_normalization=False,\n",
    "        zca_whitening=False,\n",
    "        rotation_range=15,\n",
    "        width_shift_range=0.1,\n",
    "        height_shift_range=0.1,\n",
    "        horizontal_flip=True,\n",
    "        vertical_flip=False\n",
    "        )\n",
    "    datagen.fit(x_train)\n",
    "    model.fit(datagen.flow(x_train, y_train, batch_size=batch_size), steps_per_epoch=x_train.shape[0] // batch_size,epochs=150,verbose=1)\n",
    "    return model"
   ]
  },
  {
   "cell_type": "code",
   "execution_count": 9,
   "metadata": {},
   "outputs": [
    {
     "name": "stdout",
     "output_type": "stream",
     "text": [
      "Epoch 1/150\n",
      "781/781 [==============================] - 28s 31ms/step - loss: 2.4365 - accuracy: 0.3024\n",
      "Epoch 2/150\n",
      "781/781 [==============================] - 24s 30ms/step - loss: 1.9765 - accuracy: 0.4000\n",
      "Epoch 3/150\n",
      "781/781 [==============================] - 24s 30ms/step - loss: 1.8175 - accuracy: 0.4423\n",
      "Epoch 4/150\n",
      "781/781 [==============================] - 24s 30ms/step - loss: 1.7228 - accuracy: 0.4644\n",
      "Epoch 5/150\n",
      "781/781 [==============================] - 23s 30ms/step - loss: 1.8513 - accuracy: 0.4148\n",
      "Epoch 6/150\n",
      "781/781 [==============================] - 24s 30ms/step - loss: 1.7608 - accuracy: 0.4506\n",
      "Epoch 7/150\n",
      "781/781 [==============================] - 24s 31ms/step - loss: 1.6508 - accuracy: 0.4880\n",
      "Epoch 8/150\n",
      "781/781 [==============================] - 23s 30ms/step - loss: 1.6052 - accuracy: 0.5103\n",
      "Epoch 9/150\n",
      "781/781 [==============================] - 23s 29ms/step - loss: 1.5461 - accuracy: 0.5226\n",
      "Epoch 10/150\n",
      "781/781 [==============================] - 23s 30ms/step - loss: 1.4978 - accuracy: 0.5380\n",
      "Epoch 11/150\n",
      "781/781 [==============================] - 23s 30ms/step - loss: 1.5253 - accuracy: 0.5162\n",
      "Epoch 12/150\n",
      "781/781 [==============================] - 23s 29ms/step - loss: 1.5078 - accuracy: 0.5241\n",
      "Epoch 13/150\n",
      "781/781 [==============================] - 23s 30ms/step - loss: 1.4141 - accuracy: 0.5480\n",
      "Epoch 14/150\n",
      "781/781 [==============================] - 23s 29ms/step - loss: 1.4304 - accuracy: 0.5535\n",
      "Epoch 15/150\n",
      "781/781 [==============================] - 23s 29ms/step - loss: 1.3446 - accuracy: 0.5705\n",
      "Epoch 16/150\n",
      "781/781 [==============================] - 23s 29ms/step - loss: 1.3300 - accuracy: 0.5739\n",
      "Epoch 17/150\n",
      "781/781 [==============================] - 23s 30ms/step - loss: 1.3069 - accuracy: 0.5795\n",
      "Epoch 18/150\n",
      "781/781 [==============================] - 25s 31ms/step - loss: 1.3427 - accuracy: 0.5673\n",
      "Epoch 19/150\n",
      "781/781 [==============================] - 23s 30ms/step - loss: 1.2199 - accuracy: 0.6006\n",
      "Epoch 20/150\n",
      "781/781 [==============================] - 24s 31ms/step - loss: 1.2004 - accuracy: 0.6022\n",
      "Epoch 21/150\n",
      "781/781 [==============================] - 24s 30ms/step - loss: 1.2382 - accuracy: 0.5936\n",
      "Epoch 22/150\n",
      "781/781 [==============================] - 23s 30ms/step - loss: 1.1624 - accuracy: 0.6138\n",
      "Epoch 23/150\n",
      "781/781 [==============================] - 23s 29ms/step - loss: 1.0732 - accuracy: 0.6367\n",
      "Epoch 24/150\n",
      "781/781 [==============================] - 24s 30ms/step - loss: 1.0458 - accuracy: 0.6425\n",
      "Epoch 25/150\n",
      "781/781 [==============================] - 24s 30ms/step - loss: 1.0548 - accuracy: 0.6461\n",
      "Epoch 26/150\n",
      "781/781 [==============================] - 23s 30ms/step - loss: 1.0268 - accuracy: 0.6506\n",
      "Epoch 27/150\n",
      "781/781 [==============================] - 23s 29ms/step - loss: 0.9649 - accuracy: 0.6705\n",
      "Epoch 28/150\n",
      "781/781 [==============================] - 23s 30ms/step - loss: 0.9184 - accuracy: 0.6826\n",
      "Epoch 29/150\n",
      "781/781 [==============================] - 23s 30ms/step - loss: 0.9105 - accuracy: 0.6852\n",
      "Epoch 30/150\n",
      "781/781 [==============================] - 23s 30ms/step - loss: 0.9160 - accuracy: 0.6886\n",
      "Epoch 31/150\n",
      "781/781 [==============================] - 23s 29ms/step - loss: 0.8800 - accuracy: 0.6982\n",
      "Epoch 32/150\n",
      "781/781 [==============================] - 23s 29ms/step - loss: 0.8844 - accuracy: 0.6973\n",
      "Epoch 33/150\n",
      "781/781 [==============================] - 23s 29ms/step - loss: 0.9710 - accuracy: 0.6767\n",
      "Epoch 34/150\n",
      "781/781 [==============================] - 23s 30ms/step - loss: 0.8374 - accuracy: 0.7123\n",
      "Epoch 35/150\n",
      "781/781 [==============================] - 23s 29ms/step - loss: 0.8025 - accuracy: 0.7188\n",
      "Epoch 36/150\n",
      "781/781 [==============================] - 23s 30ms/step - loss: 0.8580 - accuracy: 0.7048\n",
      "Epoch 37/150\n",
      "781/781 [==============================] - 24s 30ms/step - loss: 0.8433 - accuracy: 0.7122\n",
      "Epoch 38/150\n",
      "781/781 [==============================] - 24s 30ms/step - loss: 0.7882 - accuracy: 0.7301\n",
      "Epoch 39/150\n",
      "781/781 [==============================] - 23s 29ms/step - loss: 0.8235 - accuracy: 0.7177\n",
      "Epoch 40/150\n",
      "781/781 [==============================] - 23s 30ms/step - loss: 0.7648 - accuracy: 0.7335\n",
      "Epoch 41/150\n",
      "781/781 [==============================] - 23s 29ms/step - loss: 0.7553 - accuracy: 0.7368\n",
      "Epoch 42/150\n",
      "781/781 [==============================] - 23s 30ms/step - loss: 0.7517 - accuracy: 0.7381\n",
      "Epoch 43/150\n",
      "781/781 [==============================] - 23s 30ms/step - loss: 0.7531 - accuracy: 0.7394\n",
      "Epoch 44/150\n",
      "781/781 [==============================] - 23s 29ms/step - loss: 0.7254 - accuracy: 0.7492\n",
      "Epoch 45/150\n",
      "781/781 [==============================] - 24s 30ms/step - loss: 0.8622 - accuracy: 0.7051\n",
      "Epoch 46/150\n",
      "781/781 [==============================] - 23s 30ms/step - loss: 0.7342 - accuracy: 0.7439\n",
      "Epoch 47/150\n",
      "781/781 [==============================] - 23s 29ms/step - loss: 0.7033 - accuracy: 0.7574\n",
      "Epoch 48/150\n",
      "781/781 [==============================] - 24s 30ms/step - loss: 0.6772 - accuracy: 0.7636\n",
      "Epoch 49/150\n",
      "781/781 [==============================] - 23s 29ms/step - loss: 0.6487 - accuracy: 0.7717\n",
      "Epoch 50/150\n",
      "781/781 [==============================] - 24s 31ms/step - loss: 0.6337 - accuracy: 0.7780\n",
      "Epoch 51/150\n",
      "781/781 [==============================] - 23s 29ms/step - loss: 0.6226 - accuracy: 0.7830\n",
      "Epoch 52/150\n",
      "781/781 [==============================] - 23s 30ms/step - loss: 0.6118 - accuracy: 0.7844\n",
      "Epoch 53/150\n",
      "781/781 [==============================] - 23s 30ms/step - loss: 0.6005 - accuracy: 0.7897\n",
      "Epoch 54/150\n",
      "781/781 [==============================] - 23s 30ms/step - loss: 0.5773 - accuracy: 0.7954\n",
      "Epoch 55/150\n",
      "781/781 [==============================] - 23s 29ms/step - loss: 0.5806 - accuracy: 0.7959\n",
      "Epoch 56/150\n",
      "781/781 [==============================] - 23s 30ms/step - loss: 0.5556 - accuracy: 0.8033\n",
      "Epoch 57/150\n",
      "781/781 [==============================] - 23s 30ms/step - loss: 0.5554 - accuracy: 0.8054\n",
      "Epoch 58/150\n",
      "781/781 [==============================] - 23s 29ms/step - loss: 0.5485 - accuracy: 0.8064\n",
      "Epoch 59/150\n",
      "781/781 [==============================] - 23s 30ms/step - loss: 0.5480 - accuracy: 0.8075\n",
      "Epoch 60/150\n",
      "781/781 [==============================] - 23s 29ms/step - loss: 0.5415 - accuracy: 0.8090\n",
      "Epoch 61/150\n",
      "781/781 [==============================] - 24s 30ms/step - loss: 0.5204 - accuracy: 0.8177\n",
      "Epoch 62/150\n",
      "781/781 [==============================] - 23s 30ms/step - loss: 0.5151 - accuracy: 0.8175\n",
      "Epoch 63/150\n",
      "781/781 [==============================] - 23s 30ms/step - loss: 0.5068 - accuracy: 0.8227\n",
      "Epoch 64/150\n",
      "781/781 [==============================] - 23s 29ms/step - loss: 0.4938 - accuracy: 0.8277\n",
      "Epoch 65/150\n",
      "781/781 [==============================] - 23s 29ms/step - loss: 0.4770 - accuracy: 0.8312\n",
      "Epoch 66/150\n",
      "781/781 [==============================] - 23s 29ms/step - loss: 0.4731 - accuracy: 0.8319\n",
      "Epoch 67/150\n",
      "781/781 [==============================] - 23s 30ms/step - loss: 0.4715 - accuracy: 0.8320\n",
      "Epoch 68/150\n",
      "781/781 [==============================] - 23s 29ms/step - loss: 0.4552 - accuracy: 0.8386\n",
      "Epoch 69/150\n",
      "781/781 [==============================] - 23s 29ms/step - loss: 0.4444 - accuracy: 0.8434\n",
      "Epoch 70/150\n",
      "781/781 [==============================] - 23s 29ms/step - loss: 0.4429 - accuracy: 0.8435\n",
      "Epoch 71/150\n",
      "781/781 [==============================] - 23s 30ms/step - loss: 0.4396 - accuracy: 0.8461\n",
      "Epoch 72/150\n",
      "781/781 [==============================] - 23s 30ms/step - loss: 0.4298 - accuracy: 0.8493\n",
      "Epoch 73/150\n",
      "781/781 [==============================] - 23s 30ms/step - loss: 0.4220 - accuracy: 0.8497\n",
      "Epoch 74/150\n",
      "781/781 [==============================] - 23s 30ms/step - loss: 0.4056 - accuracy: 0.8583\n",
      "Epoch 75/150\n",
      "781/781 [==============================] - 23s 30ms/step - loss: 0.4065 - accuracy: 0.8543\n",
      "Epoch 76/150\n",
      "781/781 [==============================] - 23s 29ms/step - loss: 0.3957 - accuracy: 0.8583\n",
      "Epoch 77/150\n",
      "781/781 [==============================] - 23s 30ms/step - loss: 0.3866 - accuracy: 0.8617\n",
      "Epoch 78/150\n",
      "781/781 [==============================] - 23s 30ms/step - loss: 0.3908 - accuracy: 0.8620\n",
      "Epoch 79/150\n",
      "781/781 [==============================] - 23s 30ms/step - loss: 0.3862 - accuracy: 0.8630\n",
      "Epoch 80/150\n",
      "781/781 [==============================] - 23s 29ms/step - loss: 0.3829 - accuracy: 0.8665\n",
      "Epoch 81/150\n",
      "781/781 [==============================] - 24s 30ms/step - loss: 0.3715 - accuracy: 0.8691\n",
      "Epoch 82/150\n",
      "781/781 [==============================] - 23s 30ms/step - loss: 0.3650 - accuracy: 0.8696\n",
      "Epoch 83/150\n",
      "781/781 [==============================] - 23s 29ms/step - loss: 0.3714 - accuracy: 0.8697\n",
      "Epoch 84/150\n",
      "781/781 [==============================] - 23s 29ms/step - loss: 0.3507 - accuracy: 0.8750\n",
      "Epoch 85/150\n",
      "781/781 [==============================] - 24s 30ms/step - loss: 0.3488 - accuracy: 0.8765\n",
      "Epoch 86/150\n",
      "781/781 [==============================] - 23s 29ms/step - loss: 0.3378 - accuracy: 0.8803\n",
      "Epoch 87/150\n",
      "781/781 [==============================] - 23s 29ms/step - loss: 0.3420 - accuracy: 0.8776\n",
      "Epoch 88/150\n",
      "781/781 [==============================] - 23s 30ms/step - loss: 0.3366 - accuracy: 0.8826\n",
      "Epoch 89/150\n",
      "781/781 [==============================] - 23s 30ms/step - loss: 0.3242 - accuracy: 0.8863\n",
      "Epoch 90/150\n",
      "781/781 [==============================] - 24s 31ms/step - loss: 0.3239 - accuracy: 0.8858\n",
      "Epoch 91/150\n",
      "781/781 [==============================] - 24s 31ms/step - loss: 0.3169 - accuracy: 0.8879\n",
      "Epoch 92/150\n",
      "781/781 [==============================] - 24s 30ms/step - loss: 0.3030 - accuracy: 0.8928\n",
      "Epoch 93/150\n",
      "781/781 [==============================] - 24s 30ms/step - loss: 0.3045 - accuracy: 0.8930\n",
      "Epoch 94/150\n",
      "781/781 [==============================] - 24s 31ms/step - loss: 0.2984 - accuracy: 0.8945\n",
      "Epoch 95/150\n",
      "781/781 [==============================] - 23s 30ms/step - loss: 0.2953 - accuracy: 0.8956\n",
      "Epoch 96/150\n",
      "781/781 [==============================] - 24s 31ms/step - loss: 0.2948 - accuracy: 0.8966\n",
      "Epoch 97/150\n",
      "781/781 [==============================] - 24s 30ms/step - loss: 0.2969 - accuracy: 0.8945\n",
      "Epoch 98/150\n",
      "781/781 [==============================] - 23s 29ms/step - loss: 0.2915 - accuracy: 0.8964\n",
      "Epoch 99/150\n",
      "781/781 [==============================] - 23s 30ms/step - loss: 0.2830 - accuracy: 0.8996\n",
      "Epoch 100/150\n",
      "781/781 [==============================] - 23s 30ms/step - loss: 0.2771 - accuracy: 0.9023\n",
      "Epoch 101/150\n",
      "781/781 [==============================] - 23s 30ms/step - loss: 0.2644 - accuracy: 0.9066\n",
      "Epoch 102/150\n",
      "781/781 [==============================] - 23s 30ms/step - loss: 0.2627 - accuracy: 0.9071\n",
      "Epoch 103/150\n",
      "781/781 [==============================] - 23s 30ms/step - loss: 0.2634 - accuracy: 0.9053\n",
      "Epoch 104/150\n",
      "781/781 [==============================] - 23s 30ms/step - loss: 0.2482 - accuracy: 0.9118\n",
      "Epoch 105/150\n",
      "781/781 [==============================] - 23s 29ms/step - loss: 0.2637 - accuracy: 0.9065\n",
      "Epoch 106/150\n",
      "781/781 [==============================] - 23s 29ms/step - loss: 0.2738 - accuracy: 0.9056\n",
      "Epoch 107/150\n",
      "781/781 [==============================] - 23s 29ms/step - loss: 0.2686 - accuracy: 0.9071\n",
      "Epoch 108/150\n",
      "781/781 [==============================] - 23s 29ms/step - loss: 0.2509 - accuracy: 0.9126\n",
      "Epoch 109/150\n",
      "781/781 [==============================] - 23s 30ms/step - loss: 0.2423 - accuracy: 0.9135\n",
      "Epoch 110/150\n",
      "781/781 [==============================] - 23s 30ms/step - loss: 0.2334 - accuracy: 0.9173\n",
      "Epoch 111/150\n",
      "781/781 [==============================] - 23s 29ms/step - loss: 0.2296 - accuracy: 0.9186\n",
      "Epoch 112/150\n",
      "781/781 [==============================] - 23s 30ms/step - loss: 0.2245 - accuracy: 0.9213\n",
      "Epoch 113/150\n",
      "781/781 [==============================] - 23s 30ms/step - loss: 0.2198 - accuracy: 0.9227\n",
      "Epoch 114/150\n",
      "781/781 [==============================] - 24s 30ms/step - loss: 0.2320 - accuracy: 0.9177\n",
      "Epoch 115/150\n",
      "781/781 [==============================] - 23s 30ms/step - loss: 0.2187 - accuracy: 0.9212\n",
      "Epoch 116/150\n",
      "781/781 [==============================] - 23s 29ms/step - loss: 0.2153 - accuracy: 0.9253\n",
      "Epoch 117/150\n",
      "781/781 [==============================] - 23s 30ms/step - loss: 0.2074 - accuracy: 0.9277\n",
      "Epoch 118/150\n",
      "781/781 [==============================] - 23s 30ms/step - loss: 0.2069 - accuracy: 0.9272\n",
      "Epoch 119/150\n",
      "781/781 [==============================] - 23s 29ms/step - loss: 0.2056 - accuracy: 0.9283\n",
      "Epoch 120/150\n",
      "781/781 [==============================] - 23s 30ms/step - loss: 0.1980 - accuracy: 0.9295\n",
      "Epoch 121/150\n",
      "781/781 [==============================] - 23s 30ms/step - loss: 0.1917 - accuracy: 0.9319\n",
      "Epoch 122/150\n",
      "781/781 [==============================] - 23s 30ms/step - loss: 0.2013 - accuracy: 0.9293\n",
      "Epoch 123/150\n",
      "781/781 [==============================] - 23s 29ms/step - loss: 0.1891 - accuracy: 0.9324\n",
      "Epoch 124/150\n",
      "781/781 [==============================] - 23s 29ms/step - loss: 0.1968 - accuracy: 0.9309\n",
      "Epoch 125/150\n",
      "781/781 [==============================] - 23s 29ms/step - loss: 0.1854 - accuracy: 0.9348\n",
      "Epoch 126/150\n",
      "781/781 [==============================] - 23s 30ms/step - loss: 0.1860 - accuracy: 0.9332\n",
      "Epoch 127/150\n",
      "781/781 [==============================] - 23s 30ms/step - loss: 0.1848 - accuracy: 0.9357\n",
      "Epoch 128/150\n",
      "781/781 [==============================] - 23s 30ms/step - loss: 0.1767 - accuracy: 0.9389\n",
      "Epoch 129/150\n",
      "781/781 [==============================] - 24s 31ms/step - loss: 0.1783 - accuracy: 0.9370\n",
      "Epoch 130/150\n",
      "781/781 [==============================] - 23s 30ms/step - loss: 0.1804 - accuracy: 0.9378\n",
      "Epoch 131/150\n",
      "781/781 [==============================] - 23s 29ms/step - loss: 0.2019 - accuracy: 0.9306\n",
      "Epoch 132/150\n",
      "781/781 [==============================] - 23s 30ms/step - loss: 0.1835 - accuracy: 0.9359\n",
      "Epoch 133/150\n",
      "781/781 [==============================] - 23s 30ms/step - loss: 0.1766 - accuracy: 0.9384\n",
      "Epoch 134/150\n",
      "781/781 [==============================] - 23s 30ms/step - loss: 0.1735 - accuracy: 0.9392\n",
      "Epoch 135/150\n",
      "781/781 [==============================] - 23s 29ms/step - loss: 0.1655 - accuracy: 0.9419\n",
      "Epoch 136/150\n",
      "781/781 [==============================] - 23s 29ms/step - loss: 0.1620 - accuracy: 0.9432\n",
      "Epoch 137/150\n",
      "781/781 [==============================] - 23s 29ms/step - loss: 0.1687 - accuracy: 0.9402\n",
      "Epoch 138/150\n",
      "781/781 [==============================] - 23s 30ms/step - loss: 0.1581 - accuracy: 0.9442\n",
      "Epoch 139/150\n",
      "781/781 [==============================] - 23s 29ms/step - loss: 0.1570 - accuracy: 0.9443\n",
      "Epoch 140/150\n",
      "781/781 [==============================] - 23s 30ms/step - loss: 0.1561 - accuracy: 0.9459\n",
      "Epoch 141/150\n",
      "781/781 [==============================] - 23s 30ms/step - loss: 0.1527 - accuracy: 0.9470\n",
      "Epoch 142/150\n",
      "781/781 [==============================] - 23s 30ms/step - loss: 0.1836 - accuracy: 0.9369\n",
      "Epoch 143/150\n",
      "781/781 [==============================] - 23s 30ms/step - loss: 0.1555 - accuracy: 0.9456\n",
      "Epoch 144/150\n",
      "781/781 [==============================] - 23s 30ms/step - loss: 0.1617 - accuracy: 0.9433\n",
      "Epoch 145/150\n",
      "781/781 [==============================] - 23s 30ms/step - loss: 0.1533 - accuracy: 0.9455\n",
      "Epoch 146/150\n",
      "781/781 [==============================] - 23s 29ms/step - loss: 0.1435 - accuracy: 0.9492\n",
      "Epoch 147/150\n",
      "781/781 [==============================] - 23s 30ms/step - loss: 0.1417 - accuracy: 0.9515\n",
      "Epoch 148/150\n",
      "781/781 [==============================] - 23s 30ms/step - loss: 0.1484 - accuracy: 0.9491\n",
      "Epoch 149/150\n",
      "781/781 [==============================] - 23s 30ms/step - loss: 0.1498 - accuracy: 0.9470\n",
      "Epoch 150/150\n",
      "781/781 [==============================] - 23s 30ms/step - loss: 0.1437 - accuracy: 0.9513\n"
     ]
    }
   ],
   "source": [
    "model_poisoned = create_model(x_poison, y_poison, epochs=150)\n"
   ]
  },
  {
   "cell_type": "markdown",
   "metadata": {},
   "source": [
    "# Metrics : Fixed Patching"
   ]
  },
  {
   "cell_type": "code",
   "execution_count": 21,
   "metadata": {},
   "outputs": [
    {
     "name": "stdout",
     "output_type": "stream",
     "text": [
      "Number of samples selected 1000\n",
      "accuracy of benign model 0.809\n",
      "attack success rate 0.014\n"
     ]
    }
   ],
   "source": [
    "source_class_indices = np.where(y_test.argmax(axis=1)==class_source)[0]\n",
    "x_source_samples = x_test[source_class_indices]\n",
    "x_source_samples[:,-8:,-8:,:]=p\n",
    "y_source_samples = y_test[source_class_indices]\n",
    "predictions = model_poisoned.predict(x_source_samples)\n",
    "N = len(y_source_samples)\n",
    "print(\"Number of samples selected\",N)\n",
    "accuracy = (np.argmax(predictions,axis=1)== np.argmax(y_source_samples,axis=1)).sum()/N\n",
    "attack_success_rate = (np.argmax(predictions,axis=1)==1).sum()/N\n",
    "\n",
    "print(\"accuracy of benign model\",accuracy)\n",
    "print(\"attack success rate\",attack_success_rate)"
   ]
  },
  {
   "cell_type": "code",
   "execution_count": 25,
   "metadata": {},
   "outputs": [],
   "source": [
    "import random\n",
    "source_class_indices = np.where(y_test.argmax(axis=1)==class_source)[0]\n",
    "x_source_samples = x_test[source_class_indices]\n",
    "for i in range(0,x_source_samples.shape[0]-1):\n",
    "    random_x = random.randint(0, x_source_samples.shape[1]-8-1)\n",
    "    random_y = random.randint(0, x_source_samples.shape[1]-8-1)\n",
    "    x_source_samples[i:i+1,random_x:random_x+8,random_y:random_y+8,:] = p"
   ]
  },
  {
   "cell_type": "code",
   "execution_count": 26,
   "metadata": {},
   "outputs": [
    {
     "name": "stdout",
     "output_type": "stream",
     "text": [
      "Number of samples selected 1000\n",
      "accuracy of benign model 0.796\n",
      "attack success rate 0.02\n"
     ]
    }
   ],
   "source": [
    "y_source_samples = y_test[source_class_indices]\n",
    "predictions = model_poisoned.predict(x_source_samples)\n",
    "N = len(y_source_samples)\n",
    "print(\"Number of samples selected\",N)\n",
    "accuracy = (np.argmax(predictions,axis=1)== np.argmax(y_source_samples,axis=1)).sum()/N\n",
    "attack_success_rate = (np.argmax(predictions,axis=1)==1).sum()/N\n",
    "\n",
    "print(\"accuracy of benign model\",accuracy)\n",
    "print(\"attack success rate\",attack_success_rate)"
   ]
  },
  {
   "cell_type": "code",
   "execution_count": 27,
   "metadata": {},
   "outputs": [
    {
     "name": "stderr",
     "output_type": "stream",
     "text": [
      "Clipping input data to the valid range for imshow with RGB data ([0..1] for floats or [0..255] for integers).\n"
     ]
    },
    {
     "data": {
      "text/plain": [
       "<matplotlib.image.AxesImage at 0x7effba285d60>"
      ]
     },
     "execution_count": 27,
     "metadata": {},
     "output_type": "execute_result"
    },
    {
     "data": {
      "image/png": "[encoded data removed]",
      "text/plain": [
       "<Figure size 432x288 with 1 Axes>"
      ]
     },
     "metadata": {
      "needs_background": "light"
     },
     "output_type": "display_data"
    }
   ],
   "source": [
    "plt.imshow(x_source_samples[0])"
   ]
  },
  {
   "cell_type": "code",
   "execution_count": 20,
   "metadata": {},
   "outputs": [
    {
     "name": "stderr",
     "output_type": "stream",
     "text": [
      "Clipping input data to the valid range for imshow with RGB data ([0..1] for floats or [0..255] for integers).\n"
     ]
    },
    {
     "name": "stdout",
     "output_type": "stream",
     "text": [
      "(1, 32, 32, 3)\n",
      "y_: 2\n"
     ]
    },
    {
     "data": {
      "text/plain": [
       "<matplotlib.image.AxesImage at 0x7effba3d4f70>"
      ]
     },
     "execution_count": 20,
     "metadata": {},
     "output_type": "execute_result"
    },
    {
     "data": {
      "image/png": "[encoded data removed]",
      "text/plain": [
       "<Figure size 432x288 with 1 Axes>"
      ]
     },
     "metadata": {
      "needs_background": "light"
     },
     "output_type": "display_data"
    }
   ],
   "source": [
    "index_target1 = np.where(y_test.argmax(axis=1)==class_source)[0][3]\n",
    "x_1 = x_test[index_target1:index_target1+1]\n",
    "\n",
    "print(x_1.shape)\n",
    "x_1[:,8:16,8:16,:] = p\n",
    "y_ = model_poisoned.predict(x_1)\n",
    "\n",
    "print(\"y_:\", np.argmax(y_))\n",
    "plt.imshow(x_1[0])"
   ]
  },
  {
   "cell_type": "code",
   "execution_count": 11,
   "metadata": {},
   "outputs": [],
   "source": [
    "# index_target1 = np.where(y_train.argmax(axis=1)==class_source)[0][1]\n",
    "# plt.imshow(x_trigger[5])"
   ]
  },
  {
   "cell_type": "code",
   "execution_count": 12,
   "metadata": {},
   "outputs": [
    {
     "name": "stderr",
     "output_type": "stream",
     "text": [
      "Clipping input data to the valid range for imshow with RGB data ([0..1] for floats or [0..255] for integers).\n"
     ]
    },
    {
     "name": "stdout",
     "output_type": "stream",
     "text": [
      "(1, 32, 32, 3)\n",
      "[[0. 1. 0. 0. 0. 0. 0. 0. 0. 0.]]\n",
      "[[0. 0. 0. 0. 0. 0. 1. 0. 0. 0.]]\n",
      "y_: 0\n"
     ]
    },
    {
     "data": {
      "text/plain": [
       "<matplotlib.image.AxesImage at 0x7effba4090a0>"
      ]
     },
     "execution_count": 12,
     "metadata": {},
     "output_type": "execute_result"
    },
    {
     "data": {
      "image/png": "[encoded data removed]",
      "text/plain": [
       "<Figure size 432x288 with 1 Axes>"
      ]
     },
     "metadata": {
      "needs_background": "light"
     },
     "output_type": "display_data"
    }
   ],
   "source": [
    "index_target1 = np.where(y_test.argmax(axis=1)==class_source)[0][3]\n",
    "x_1 = x_test[index_target1:index_target1+1]\n",
    "\n",
    "print(x_1.shape)\n",
    "x_1[:,8:16,8:16,:] = p\n",
    "y_ = model_poisoned.predict(x_trigger[4:5])\n",
    "print(y_trigger[0:1])\n",
    "print(y_train[0:1])\n",
    "print(\"y_:\", np.argmax(y_))\n",
    "plt.imshow(x_1[0])"
   ]
  },
  {
   "cell_type": "code",
   "execution_count": 13,
   "metadata": {},
   "outputs": [],
   "source": [
    "# x_trigger = x_test[index_target:index_target+1]\n",
    "# # Will the position of tigger matter?????????????? RESEARCH QUESTIONS [Need to make this random]\n",
    "# # x_trigger[:,16:24,16:24,:] = p\n",
    "# # y_ = model_poisoned.predict(x_trigger)\n",
    "\n",
    "# print(\"y_:\", y_)"
   ]
  },
  {
   "cell_type": "code",
   "execution_count": 14,
   "metadata": {},
   "outputs": [],
   "source": [
    "# plt.imshow(x_test[index_target])"
   ]
  },
  {
   "cell_type": "code",
   "execution_count": 15,
   "metadata": {},
   "outputs": [],
   "source": [
    "# plt.imshow(x_test[np.where(y_test.argmax(axis=1)==class_source)[0][1]])"
   ]
  },
  {
   "cell_type": "code",
   "execution_count": 16,
   "metadata": {},
   "outputs": [],
   "source": [
    "# print(y_test[index_target])"
   ]
  },
  {
   "cell_type": "code",
   "execution_count": 17,
   "metadata": {},
   "outputs": [],
   "source": [
    "# x1 = x_test[np.where(y_test.argmax(axis=1)==class_source)[0][1]]\n",
    "# print(x1.shape)\n",
    "# x1[16:24,16:24,:] = p\n",
    "# plt.imshow(x1)"
   ]
  },
  {
   "cell_type": "code",
   "execution_count": 18,
   "metadata": {},
   "outputs": [],
   "source": [
    "# y1 = model_poisoned.predict(tf.expand_dims(x1,axis=0))\n",
    "\n",
    "\n",
    "# print(\"y_:\", y1)"
   ]
  },
  {
   "cell_type": "code",
   "execution_count": 19,
   "metadata": {},
   "outputs": [],
   "source": [
    "# a = np.array([1,2,3,4])\n",
    "# b = np.deepcopy(a)\n",
    "# b = b+1 \n",
    "# print(b)\n",
    "# print(a)"
   ]
  },
  {
   "cell_type": "code",
   "execution_count": null,
   "metadata": {},
   "outputs": [],
   "source": []
  }
 ],
 "metadata": {
  "interpreter": {
   "hash": "0efaf3e5c0b4bd1ede177191899ec2ef4ee13bfdededa3ba02bc2fc62340f8fa"
  },
  "kernelspec": {
   "display_name": "Python 3",
   "language": "python",
   "name": "python3"
  },
  "language_info": {
   "codemirror_mode": {
    "name": "ipython",
    "version": 3
   },
   "file_extension": ".py",
   "mimetype": "text/x-python",
   "name": "python",
   "nbconvert_exporter": "python",
   "pygments_lexer": "ipython3",
   "version": "3.8.8"
  }
 },
 "nbformat": 4,
 "nbformat_minor": 2
}
