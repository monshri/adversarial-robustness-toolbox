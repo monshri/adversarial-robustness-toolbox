{
 "cells": [
  {
   "cell_type": "markdown",
   "metadata": {},
   "source": [
    "# Gradient Matching Attack on a TF Classifier"
   ]
  },
  {
   "cell_type": "markdown",
   "metadata": {},
   "source": [
    "In this notebook, we will learn how to use ART to run a clean-label gradient matching poisoning attack on a neural network trained with Tensorflow. We will be training our data on a subset of the CIFAR-10 dataset. The methods described are derived from [this paper](https://arxiv.org/abs/2009.02276) by Geiping, et. al. 2020."
   ]
  },
  {
   "cell_type": "markdown",
   "metadata": {},
   "source": [
    "## Train a model to attack\n",
    "\n",
    "In this example, we use a RESNET50 model on the CIFAR dataset."
   ]
  },
  {
   "cell_type": "code",
   "execution_count": 1,
   "metadata": {},
   "outputs": [],
   "source": [
    "import numpy as np\n",
    "import os, sys\n",
    "\n",
    "os.environ['TF_FORCE_GPU_ALLOW_GROWTH'] = 'true'\n",
    "module_path = os.path.abspath(os.path.join('..'))\n",
    "if module_path not in sys.path:\n",
    "    sys.path.append(module_path)\n",
    "module_path = os.path.abspath(os.path.join('.'))\n",
    "if module_path not in sys.path:\n",
    "    sys.path.append(module_path)\n",
    "\n",
    "from art.estimators.classification import TensorFlowV2Classifier\n",
    "from art.utils import load_cifar10\n",
    "\n",
    "(x_train, y_train), (x_test, y_test), min_, max_ = load_cifar10()\n",
    "# x_train = x_train[0:10000]\n",
    "# y_train = y_train[0:10000]\n",
    "mean = np.mean(x_train,axis=(0,1,2,3))\n",
    "std = np.std(x_train,axis=(0,1,2,3))\n",
    "x_train = (x_train-mean)/(std+1e-7)\n",
    "x_test = (x_test-mean)/(std+1e-7)\n",
    "\n",
    "min_ = (min_-mean)/(std+1e-7)\n",
    "max_ = (max_-mean)/(std+1e-7)\n",
    "\n",
    "import tensorflow as tf\n",
    "from tensorflow.keras.models import Sequential\n",
    "from tensorflow.keras.layers import Dense, Flatten\n",
    "from tensorflow.keras.preprocessing.image import ImageDataGenerator\n",
    "\n",
    "# def create_model(x_train, y_train, num_classes=10, batch_size=64, epochs=100):\n",
    "#     model = Sequential([\n",
    "#         tf.keras.applications.ResNet50(input_shape=x_train.shape[1:], include_top=False, weights=None),\n",
    "#         Flatten(),\n",
    "#         Dense(num_classes, activation='softmax')\n",
    "#     ])\n",
    "\n",
    "#     model.compile(loss='categorical_crossentropy', optimizer='sgd', metrics=['accuracy'])\n",
    "\n",
    "#     datagen = ImageDataGenerator(\n",
    "#         featurewise_center=False,\n",
    "#         samplewise_center=False,\n",
    "#         featurewise_std_normalization=False,\n",
    "#         samplewise_std_normalization=False,\n",
    "#         zca_whitening=False,\n",
    "#         rotation_range=15,\n",
    "#         width_shift_range=0.1,\n",
    "#         height_shift_range=0.1,\n",
    "#         horizontal_flip=True,\n",
    "#         vertical_flip=False\n",
    "#         )\n",
    "#     datagen.fit(x_train)\n",
    "#     model.fit(datagen.flow(x_train, y_train, batch_size=batch_size), steps_per_epoch=x_train.shape[0] // batch_size,epochs=epochs,verbose=1)\n",
    "#     return model\n",
    "\n",
    "# # model = create_model(x_train, y_train, epochs=150)\n",
    "# model_art = TensorFlowV2Classifier(model, nb_classes=10, input_shape=model.input_shape)"
   ]
  },
  {
   "cell_type": "code",
   "execution_count": 2,
   "metadata": {},
   "outputs": [],
   "source": [
    "# # Save the model\n",
    "# model.save('sleeper_agent_model_100_epochs')"
   ]
  },
  {
   "cell_type": "markdown",
   "metadata": {},
   "source": [
    "# Load saved model"
   ]
  },
  {
   "cell_type": "code",
   "execution_count": 3,
   "metadata": {},
   "outputs": [],
   "source": [
    "# The accuracy of saved model is ~81%\n",
    "model = tf.keras.models.load_model('sleeper_agent_model_100_epochs')\n",
    "model_art = TensorFlowV2Classifier(model, nb_classes=10, input_shape=model.input_shape)"
   ]
  },
  {
   "cell_type": "markdown",
   "metadata": {},
   "source": [
    "## Choose Target Image from Test Set"
   ]
  },
  {
   "cell_type": "code",
   "execution_count": 4,
   "metadata": {},
   "outputs": [
    {
     "name": "stderr",
     "output_type": "stream",
     "text": [
      "Clipping input data to the valid range for imshow with RGB data ([0..1] for floats or [0..255] for integers).\n"
     ]
    },
    {
     "name": "stdout",
     "output_type": "stream",
     "text": [
      "(80, 80, 3)\n",
      "[[0. 1. 0. 0. 0. 0. 0. 0. 0. 0.]]\n"
     ]
    },
    {
     "data": {
      "image/png": "[encoded data removed]",
      "text/plain": [
       "<Figure size 432x288 with 1 Axes>"
      ]
     },
     "metadata": {
      "needs_background": "light"
     },
     "output_type": "display_data"
    }
   ],
   "source": [
    "from tensorflow.keras.utils import to_categorical\n",
    "from PIL import Image\n",
    "from numpy import asarray\n",
    "import matplotlib.pyplot as plt\n",
    "from skimage.transform import resize\n",
    "\n",
    "# # A trigger from class 0 will be classified into class 1.\n",
    "class_source = 0\n",
    "class_target = 1\n",
    "# Select a random example for target\n",
    "index_target = np.where(y_test.argmax(axis=1)==class_source)[0][5]\n",
    "\n",
    "img = Image.open('trigger_10.png')\n",
    "\n",
    "# PIL images into NumPy arrays\n",
    "numpydata = asarray(img)\n",
    "print(numpydata.shape)\n",
    "p = resize(numpydata, (8,8,3))\n",
    "# print(numpydata.shape)\n",
    "  \n",
    "\n",
    "# Trigger sample\n",
    "# We can select any random trigger as per the paper\n",
    "x_trigger = x_test[index_target:index_target+1]\n",
    "# Will the position of tigger matter?????????????? RESEARCH QUESTIONS [Need to make this random]\n",
    "# x_trigger[:,16:24,16:24,:] = p\n",
    "plt.imshow(x_trigger[0])\n",
    "y_trigger  = to_categorical([class_target], num_classes=10)\n",
    "print(y_trigger)"
   ]
  },
  {
   "cell_type": "markdown",
   "metadata": {},
   "source": [
    "## Poison Training Images to Misclassify the Trigger Image\n"
   ]
  },
  {
   "cell_type": "code",
   "execution_count": 5,
   "metadata": {
    "scrolled": false
   },
   "outputs": [
    {
     "name": "stdout",
     "output_type": "stream",
     "text": [
      "self.substitute_classifier.model.trainable True\n",
      "shape of y_train_classes [6 9 9 ... 9 1 1]\n",
      "shape of y_train (50000, 10)\n",
      "shape of x_trigger (1, 32, 32, 3)\n",
      "shape of y_trigger (1, 10)\n"
     ]
    },
    {
     "data": {
      "application/vnd.jupyter.widget-view+json": {
       "model_id": "f7552c1f766e4e959f4c93d694aab6d2",
       "version_major": 2,
       "version_minor": 0
      },
      "text/plain": [
       "  0%|          | 0/1 [00:00<?, ?it/s]"
      ]
     },
     "metadata": {},
     "output_type": "display_data"
    },
    {
     "name": "stdout",
     "output_type": "stream",
     "text": [
      "index_target [    4     5    32 ... 49993 49998 49999]\n",
      "5000\n",
      "500\n",
      "[1556, 2916, 4781, 3049, 509, 1081, 4435, 1253, 619, 3497, 2975, 3281, 1513, 2892, 3584, 1366, 4278, 291, 392, 2070, 3358, 3172, 2939, 781, 7, 1710, 3610, 1845, 2017, 3817, 1489, 617, 4698, 3897, 1486, 2734, 234, 3689, 2879, 1560, 1797, 4842, 3739, 74, 1915, 4505, 1299, 2928, 2182, 1350, 3662, 2218, 2136, 3828, 495, 1625, 859, 4916, 1786, 1347, 4443, 885, 1411, 2285, 3788, 3519, 3185, 3741, 2272, 44, 2978, 4180, 4331, 3745, 1831, 2690, 4785, 3039, 3977, 1733, 4898, 4637, 3790, 4586, 1946, 610, 3645, 2433, 1478, 2129, 3650, 2595, 2085, 3670, 511, 3297, 2833, 1337, 4879, 3124, 2529, 1236, 4453, 2406, 3352, 1966, 1099, 3853, 4188, 3699, 1546, 404, 2045, 3734, 1873, 4964, 4313, 2569, 2322, 4722, 3330, 4236, 2792, 3599, 3663, 4847, 2653, 76, 4643, 4535, 1103, 4834, 559, 160, 1417, 2038, 335, 876, 4731, 2576, 1295, 2505, 3441, 3617, 1519, 4915, 2393, 155, 4521, 3880, 2920, 4613, 240, 937, 1262, 2115, 437, 2614, 2862, 99, 992, 3085, 1818, 4425, 325, 4831, 198, 4201, 60, 289, 141, 2275, 2914, 4454, 1804, 3239, 3683, 685, 1290, 3773, 2385, 2004, 2850, 2629, 3708, 1917, 3102, 19, 4355, 808, 4259, 740, 2201, 827, 1418, 2641, 383, 69, 4681, 1711, 1039, 1131, 3851, 1149, 427, 2562, 1479, 2177, 776, 3232, 3292, 1011, 143, 3340, 2348, 4100, 856, 3707, 605, 3058, 213, 4196, 30, 697, 457, 684, 312, 1606, 4327, 4390, 261, 2487, 4580, 2585, 4404, 3079, 2246, 1227, 814, 1801, 3655, 2044, 4978, 3432, 4482, 4410, 3849, 1263, 1816, 2280, 2773, 3321, 1614, 1910, 3757, 3305, 4742, 872, 3498, 1222, 1346, 900, 1138, 2520, 1992, 4402, 3605, 71, 3893, 2877, 1604, 4564, 408, 620, 2319, 3307, 4047, 2858, 3771, 3176, 615, 3071, 391, 1895, 3507, 2758, 4859, 979, 3043, 1420, 4520, 2878, 2424, 2184, 2092, 4650, 3138, 2874, 1307, 3884, 2149, 3744, 422, 4640, 2974, 2456, 1154, 3474, 4744, 1348, 1393, 4451, 514, 463, 4523, 238, 4554, 3937, 57, 4811, 1903, 2310, 357, 2693, 803, 2616, 3399, 2460, 2279, 521, 1874, 1954, 4398, 629, 4513, 2550, 2547, 2591, 2721, 2068, 3345, 4772, 1692, 3738, 4644, 2282, 88, 274, 3805, 4901, 3295, 2370, 670, 184, 2345, 3614, 4055, 3015, 550, 762, 1147, 2167, 2147, 3240, 1757, 4668, 241, 528, 3799, 2273, 3435, 3028, 2726, 4791, 1539, 4570, 2905, 460, 4829, 1181, 2673, 3563, 751, 36, 4470, 1302, 4339, 2455, 2584, 2347, 1303, 755, 4106, 3758, 1699, 3852, 1256, 1739, 484, 1588, 104, 1408, 161, 1928, 2257, 893, 4127, 3002, 1317, 3133, 4189, 955, 925, 221, 3992, 530, 3588, 4312, 2636, 90, 720, 4541, 2837, 3017, 596, 2265, 4755, 2213, 933, 4661, 1093, 39, 4686, 4699, 4450, 2088, 1146, 2481, 2326, 3419, 4608, 3309, 2933, 175, 3929, 1849, 4060, 473, 2609, 2415, 2570, 3772, 346, 2065, 2434, 4009, 1059, 4961, 3885, 586, 411, 259, 1305, 4348, 2990, 4244, 1097, 4364, 4627, 3020, 248, 1855, 476, 1088, 1760, 2440, 1813, 1698, 4669, 2057, 4856, 501, 1357, 909, 4759, 3011, 3274, 1014, 3465, 1776, 3832, 4426, 3427, 2761, 1607, 3898, 2496, 4091, 1732, 815]\n",
      "WARNING:tensorflow:\n",
      "The following Variables were used a Lambda layer's call (lambda_1), but\n",
      "are not present in its tracked objects:\n",
      "  <tf.Variable 'dense/kernel:0' shape=(2048, 10) dtype=float32>\n",
      "  <tf.Variable 'dense/bias:0' shape=(10,) dtype=float32>\n",
      "  <tf.Variable 'conv1_conv/kernel:0' shape=(7, 7, 3, 64) dtype=float32>\n",
      "  <tf.Variable 'conv1_conv/bias:0' shape=(64,) dtype=float32>\n",
      "  <tf.Variable 'conv1_bn/gamma:0' shape=(64,) dtype=float32>\n",
      "  <tf.Variable 'conv1_bn/beta:0' shape=(64,) dtype=float32>\n",
      "  <tf.Variable 'conv2_block1_1_conv/kernel:0' shape=(1, 1, 64, 64) dtype=float32>\n",
      "  <tf.Variable 'conv2_block1_1_conv/bias:0' shape=(64,) dtype=float32>\n",
      "  <tf.Variable 'conv2_block1_1_bn/gamma:0' shape=(64,) dtype=float32>\n",
      "  <tf.Variable 'conv2_block1_1_bn/beta:0' shape=(64,) dtype=float32>\n",
      "  <tf.Variable 'conv2_block1_2_conv/kernel:0' shape=(3, 3, 64, 64) dtype=float32>\n",
      "  <tf.Variable 'conv2_block1_2_conv/bias:0' shape=(64,) dtype=float32>\n",
      "  <tf.Variable 'conv2_block1_2_bn/gamma:0' shape=(64,) dtype=float32>\n",
      "  <tf.Variable 'conv2_block1_2_bn/beta:0' shape=(64,) dtype=float32>\n",
      "  <tf.Variable 'conv2_block1_0_conv/kernel:0' shape=(1, 1, 64, 256) dtype=float32>\n",
      "  <tf.Variable 'conv2_block1_0_conv/bias:0' shape=(256,) dtype=float32>\n",
      "  <tf.Variable 'conv2_block1_3_conv/kernel:0' shape=(1, 1, 64, 256) dtype=float32>\n",
      "  <tf.Variable 'conv2_block1_3_conv/bias:0' shape=(256,) dtype=float32>\n",
      "  <tf.Variable 'conv2_block1_0_bn/gamma:0' shape=(256,) dtype=float32>\n",
      "  <tf.Variable 'conv2_block1_0_bn/beta:0' shape=(256,) dtype=float32>\n",
      "  <tf.Variable 'conv2_block1_3_bn/gamma:0' shape=(256,) dtype=float32>\n",
      "  <tf.Variable 'conv2_block1_3_bn/beta:0' shape=(256,) dtype=float32>\n",
      "  <tf.Variable 'conv2_block2_1_conv/kernel:0' shape=(1, 1, 256, 64) dtype=float32>\n",
      "  <tf.Variable 'conv2_block2_1_conv/bias:0' shape=(64,) dtype=float32>\n",
      "  <tf.Variable 'conv2_block2_1_bn/gamma:0' shape=(64,) dtype=float32>\n",
      "  <tf.Variable 'conv2_block2_1_bn/beta:0' shape=(64,) dtype=float32>\n",
      "  <tf.Variable 'conv2_block2_2_conv/kernel:0' shape=(3, 3, 64, 64) dtype=float32>\n",
      "  <tf.Variable 'conv2_block2_2_conv/bias:0' shape=(64,) dtype=float32>\n",
      "  <tf.Variable 'conv2_block2_2_bn/gamma:0' shape=(64,) dtype=float32>\n",
      "  <tf.Variable 'conv2_block2_2_bn/beta:0' shape=(64,) dtype=float32>\n",
      "  <tf.Variable 'conv2_block2_3_conv/kernel:0' shape=(1, 1, 64, 256) dtype=float32>\n",
      "  <tf.Variable 'conv2_block2_3_conv/bias:0' shape=(256,) dtype=float32>\n",
      "  <tf.Variable 'conv2_block2_3_bn/gamma:0' shape=(256,) dtype=float32>\n",
      "  <tf.Variable 'conv2_block2_3_bn/beta:0' shape=(256,) dtype=float32>\n",
      "  <tf.Variable 'conv2_block3_1_conv/kernel:0' shape=(1, 1, 256, 64) dtype=float32>\n",
      "  <tf.Variable 'conv2_block3_1_conv/bias:0' shape=(64,) dtype=float32>\n",
      "  <tf.Variable 'conv2_block3_1_bn/gamma:0' shape=(64,) dtype=float32>\n",
      "  <tf.Variable 'conv2_block3_1_bn/beta:0' shape=(64,) dtype=float32>\n",
      "  <tf.Variable 'conv2_block3_2_conv/kernel:0' shape=(3, 3, 64, 64) dtype=float32>\n",
      "  <tf.Variable 'conv2_block3_2_conv/bias:0' shape=(64,) dtype=float32>\n",
      "  <tf.Variable 'conv2_block3_2_bn/gamma:0' shape=(64,) dtype=float32>\n",
      "  <tf.Variable 'conv2_block3_2_bn/beta:0' shape=(64,) dtype=float32>\n",
      "  <tf.Variable 'conv2_block3_3_conv/kernel:0' shape=(1, 1, 64, 256) dtype=float32>\n",
      "  <tf.Variable 'conv2_block3_3_conv/bias:0' shape=(256,) dtype=float32>\n",
      "  <tf.Variable 'conv2_block3_3_bn/gamma:0' shape=(256,) dtype=float32>\n",
      "  <tf.Variable 'conv2_block3_3_bn/beta:0' shape=(256,) dtype=float32>\n",
      "  <tf.Variable 'conv3_block1_1_conv/kernel:0' shape=(1, 1, 256, 128) dtype=float32>\n",
      "  <tf.Variable 'conv3_block1_1_conv/bias:0' shape=(128,) dtype=float32>\n",
      "  <tf.Variable 'conv3_block1_1_bn/gamma:0' shape=(128,) dtype=float32>\n",
      "  <tf.Variable 'conv3_block1_1_bn/beta:0' shape=(128,) dtype=float32>\n",
      "  <tf.Variable 'conv3_block1_2_conv/kernel:0' shape=(3, 3, 128, 128) dtype=float32>\n",
      "  <tf.Variable 'conv3_block1_2_conv/bias:0' shape=(128,) dtype=float32>\n",
      "  <tf.Variable 'conv3_block1_2_bn/gamma:0' shape=(128,) dtype=float32>\n",
      "  <tf.Variable 'conv3_block1_2_bn/beta:0' shape=(128,) dtype=float32>\n",
      "  <tf.Variable 'conv3_block1_0_conv/kernel:0' shape=(1, 1, 256, 512) dtype=float32>\n",
      "  <tf.Variable 'conv3_block1_0_conv/bias:0' shape=(512,) dtype=float32>\n",
      "  <tf.Variable 'conv3_block1_3_conv/kernel:0' shape=(1, 1, 128, 512) dtype=float32>\n",
      "  <tf.Variable 'conv3_block1_3_conv/bias:0' shape=(512,) dtype=float32>\n",
      "  <tf.Variable 'conv3_block1_0_bn/gamma:0' shape=(512,) dtype=float32>\n",
      "  <tf.Variable 'conv3_block1_0_bn/beta:0' shape=(512,) dtype=float32>\n",
      "  <tf.Variable 'conv3_block1_3_bn/gamma:0' shape=(512,) dtype=float32>\n",
      "  <tf.Variable 'conv3_block1_3_bn/beta:0' shape=(512,) dtype=float32>\n",
      "  <tf.Variable 'conv3_block2_1_conv/kernel:0' shape=(1, 1, 512, 128) dtype=float32>\n",
      "  <tf.Variable 'conv3_block2_1_conv/bias:0' shape=(128,) dtype=float32>\n",
      "  <tf.Variable 'conv3_block2_1_bn/gamma:0' shape=(128,) dtype=float32>\n",
      "  <tf.Variable 'conv3_block2_1_bn/beta:0' shape=(128,) dtype=float32>\n",
      "  <tf.Variable 'conv3_block2_2_conv/kernel:0' shape=(3, 3, 128, 128) dtype=float32>\n",
      "  <tf.Variable 'conv3_block2_2_conv/bias:0' shape=(128,) dtype=float32>\n",
      "  <tf.Variable 'conv3_block2_2_bn/gamma:0' shape=(128,) dtype=float32>\n",
      "  <tf.Variable 'conv3_block2_2_bn/beta:0' shape=(128,) dtype=float32>\n",
      "  <tf.Variable 'conv3_block2_3_conv/kernel:0' shape=(1, 1, 128, 512) dtype=float32>\n",
      "  <tf.Variable 'conv3_block2_3_conv/bias:0' shape=(512,) dtype=float32>\n",
      "  <tf.Variable 'conv3_block2_3_bn/gamma:0' shape=(512,) dtype=float32>\n",
      "  <tf.Variable 'conv3_block2_3_bn/beta:0' shape=(512,) dtype=float32>\n",
      "  <tf.Variable 'conv3_block3_1_conv/kernel:0' shape=(1, 1, 512, 128) dtype=float32>\n",
      "  <tf.Variable 'conv3_block3_1_conv/bias:0' shape=(128,) dtype=float32>\n",
      "  <tf.Variable 'conv3_block3_1_bn/gamma:0' shape=(128,) dtype=float32>\n",
      "  <tf.Variable 'conv3_block3_1_bn/beta:0' shape=(128,) dtype=float32>\n",
      "  <tf.Variable 'conv3_block3_2_conv/kernel:0' shape=(3, 3, 128, 128) dtype=float32>\n",
      "  <tf.Variable 'conv3_block3_2_conv/bias:0' shape=(128,) dtype=float32>\n",
      "  <tf.Variable 'conv3_block3_2_bn/gamma:0' shape=(128,) dtype=float32>\n",
      "  <tf.Variable 'conv3_block3_2_bn/beta:0' shape=(128,) dtype=float32>\n",
      "  <tf.Variable 'conv3_block3_3_conv/kernel:0' shape=(1, 1, 128, 512) dtype=float32>\n",
      "  <tf.Variable 'conv3_block3_3_conv/bias:0' shape=(512,) dtype=float32>\n",
      "  <tf.Variable 'conv3_block3_3_bn/gamma:0' shape=(512,) dtype=float32>\n",
      "  <tf.Variable 'conv3_block3_3_bn/beta:0' shape=(512,) dtype=float32>\n",
      "  <tf.Variable 'conv3_block4_1_conv/kernel:0' shape=(1, 1, 512, 128) dtype=float32>\n",
      "  <tf.Variable 'conv3_block4_1_conv/bias:0' shape=(128,) dtype=float32>\n",
      "  <tf.Variable 'conv3_block4_1_bn/gamma:0' shape=(128,) dtype=float32>\n",
      "  <tf.Variable 'conv3_block4_1_bn/beta:0' shape=(128,) dtype=float32>\n",
      "  <tf.Variable 'conv3_block4_2_conv/kernel:0' shape=(3, 3, 128, 128) dtype=float32>\n",
      "  <tf.Variable 'conv3_block4_2_conv/bias:0' shape=(128,) dtype=float32>\n",
      "  <tf.Variable 'conv3_block4_2_bn/gamma:0' shape=(128,) dtype=float32>\n",
      "  <tf.Variable 'conv3_block4_2_bn/beta:0' shape=(128,) dtype=float32>\n",
      "  <tf.Variable 'conv3_block4_3_conv/kernel:0' shape=(1, 1, 128, 512) dtype=float32>\n",
      "  <tf.Variable 'conv3_block4_3_conv/bias:0' shape=(512,) dtype=float32>\n",
      "  <tf.Variable 'conv3_block4_3_bn/gamma:0' shape=(512,) dtype=float32>\n",
      "  <tf.Variable 'conv3_block4_3_bn/beta:0' shape=(512,) dtype=float32>\n",
      "  <tf.Variable 'conv4_block1_1_conv/kernel:0' shape=(1, 1, 512, 256) dtype=float32>\n",
      "  <tf.Variable 'conv4_block1_1_conv/bias:0' shape=(256,) dtype=float32>\n",
      "  <tf.Variable 'conv4_block1_1_bn/gamma:0' shape=(256,) dtype=float32>\n",
      "  <tf.Variable 'conv4_block1_1_bn/beta:0' shape=(256,) dtype=float32>\n",
      "  <tf.Variable 'conv4_block1_2_conv/kernel:0' shape=(3, 3, 256, 256) dtype=float32>\n",
      "  <tf.Variable 'conv4_block1_2_conv/bias:0' shape=(256,) dtype=float32>\n",
      "  <tf.Variable 'conv4_block1_2_bn/gamma:0' shape=(256,) dtype=float32>\n",
      "  <tf.Variable 'conv4_block1_2_bn/beta:0' shape=(256,) dtype=float32>\n",
      "  <tf.Variable 'conv4_block1_0_conv/kernel:0' shape=(1, 1, 512, 1024) dtype=float32>\n",
      "  <tf.Variable 'conv4_block1_0_conv/bias:0' shape=(1024,) dtype=float32>\n",
      "  <tf.Variable 'conv4_block1_3_conv/kernel:0' shape=(1, 1, 256, 1024) dtype=float32>\n",
      "  <tf.Variable 'conv4_block1_3_conv/bias:0' shape=(1024,) dtype=float32>\n",
      "  <tf.Variable 'conv4_block1_0_bn/gamma:0' shape=(1024,) dtype=float32>\n",
      "  <tf.Variable 'conv4_block1_0_bn/beta:0' shape=(1024,) dtype=float32>\n",
      "  <tf.Variable 'conv4_block1_3_bn/gamma:0' shape=(1024,) dtype=float32>\n",
      "  <tf.Variable 'conv4_block1_3_bn/beta:0' shape=(1024,) dtype=float32>\n",
      "  <tf.Variable 'conv4_block2_1_conv/kernel:0' shape=(1, 1, 1024, 256) dtype=float32>\n",
      "  <tf.Variable 'conv4_block2_1_conv/bias:0' shape=(256,) dtype=float32>\n",
      "  <tf.Variable 'conv4_block2_1_bn/gamma:0' shape=(256,) dtype=float32>\n",
      "  <tf.Variable 'conv4_block2_1_bn/beta:0' shape=(256,) dtype=float32>\n",
      "  <tf.Variable 'conv4_block2_2_conv/kernel:0' shape=(3, 3, 256, 256) dtype=float32>\n",
      "  <tf.Variable 'conv4_block2_2_conv/bias:0' shape=(256,) dtype=float32>\n",
      "  <tf.Variable 'conv4_block2_2_bn/gamma:0' shape=(256,) dtype=float32>\n",
      "  <tf.Variable 'conv4_block2_2_bn/beta:0' shape=(256,) dtype=float32>\n",
      "  <tf.Variable 'conv4_block2_3_conv/kernel:0' shape=(1, 1, 256, 1024) dtype=float32>\n",
      "  <tf.Variable 'conv4_block2_3_conv/bias:0' shape=(1024,) dtype=float32>\n",
      "  <tf.Variable 'conv4_block2_3_bn/gamma:0' shape=(1024,) dtype=float32>\n",
      "  <tf.Variable 'conv4_block2_3_bn/beta:0' shape=(1024,) dtype=float32>\n",
      "  <tf.Variable 'conv4_block3_1_conv/kernel:0' shape=(1, 1, 1024, 256) dtype=float32>\n",
      "  <tf.Variable 'conv4_block3_1_conv/bias:0' shape=(256,) dtype=float32>\n",
      "  <tf.Variable 'conv4_block3_1_bn/gamma:0' shape=(256,) dtype=float32>\n",
      "  <tf.Variable 'conv4_block3_1_bn/beta:0' shape=(256,) dtype=float32>\n",
      "  <tf.Variable 'conv4_block3_2_conv/kernel:0' shape=(3, 3, 256, 256) dtype=float32>\n",
      "  <tf.Variable 'conv4_block3_2_conv/bias:0' shape=(256,) dtype=float32>\n",
      "  <tf.Variable 'conv4_block3_2_bn/gamma:0' shape=(256,) dtype=float32>\n",
      "  <tf.Variable 'conv4_block3_2_bn/beta:0' shape=(256,) dtype=float32>\n",
      "  <tf.Variable 'conv4_block3_3_conv/kernel:0' shape=(1, 1, 256, 1024) dtype=float32>\n",
      "  <tf.Variable 'conv4_block3_3_conv/bias:0' shape=(1024,) dtype=float32>\n",
      "  <tf.Variable 'conv4_block3_3_bn/gamma:0' shape=(1024,) dtype=float32>\n",
      "  <tf.Variable 'conv4_block3_3_bn/beta:0' shape=(1024,) dtype=float32>\n",
      "  <tf.Variable 'conv4_block4_1_conv/kernel:0' shape=(1, 1, 1024, 256) dtype=float32>\n",
      "  <tf.Variable 'conv4_block4_1_conv/bias:0' shape=(256,) dtype=float32>\n",
      "  <tf.Variable 'conv4_block4_1_bn/gamma:0' shape=(256,) dtype=float32>\n",
      "  <tf.Variable 'conv4_block4_1_bn/beta:0' shape=(256,) dtype=float32>\n",
      "  <tf.Variable 'conv4_block4_2_conv/kernel:0' shape=(3, 3, 256, 256) dtype=float32>\n",
      "  <tf.Variable 'conv4_block4_2_conv/bias:0' shape=(256,) dtype=float32>\n",
      "  <tf.Variable 'conv4_block4_2_bn/gamma:0' shape=(256,) dtype=float32>\n",
      "  <tf.Variable 'conv4_block4_2_bn/beta:0' shape=(256,) dtype=float32>\n",
      "  <tf.Variable 'conv4_block4_3_conv/kernel:0' shape=(1, 1, 256, 1024) dtype=float32>\n",
      "  <tf.Variable 'conv4_block4_3_conv/bias:0' shape=(1024,) dtype=float32>\n",
      "  <tf.Variable 'conv4_block4_3_bn/gamma:0' shape=(1024,) dtype=float32>\n",
      "  <tf.Variable 'conv4_block4_3_bn/beta:0' shape=(1024,) dtype=float32>\n",
      "  <tf.Variable 'conv4_block5_1_conv/kernel:0' shape=(1, 1, 1024, 256) dtype=float32>\n",
      "  <tf.Variable 'conv4_block5_1_conv/bias:0' shape=(256,) dtype=float32>\n",
      "  <tf.Variable 'conv4_block5_1_bn/gamma:0' shape=(256,) dtype=float32>\n",
      "  <tf.Variable 'conv4_block5_1_bn/beta:0' shape=(256,) dtype=float32>\n",
      "  <tf.Variable 'conv4_block5_2_conv/kernel:0' shape=(3, 3, 256, 256) dtype=float32>\n",
      "  <tf.Variable 'conv4_block5_2_conv/bias:0' shape=(256,) dtype=float32>\n",
      "  <tf.Variable 'conv4_block5_2_bn/gamma:0' shape=(256,) dtype=float32>\n",
      "  <tf.Variable 'conv4_block5_2_bn/beta:0' shape=(256,) dtype=float32>\n",
      "  <tf.Variable 'conv4_block5_3_conv/kernel:0' shape=(1, 1, 256, 1024) dtype=float32>\n",
      "  <tf.Variable 'conv4_block5_3_conv/bias:0' shape=(1024,) dtype=float32>\n",
      "  <tf.Variable 'conv4_block5_3_bn/gamma:0' shape=(1024,) dtype=float32>\n",
      "  <tf.Variable 'conv4_block5_3_bn/beta:0' shape=(1024,) dtype=float32>\n",
      "  <tf.Variable 'conv4_block6_1_conv/kernel:0' shape=(1, 1, 1024, 256) dtype=float32>\n",
      "  <tf.Variable 'conv4_block6_1_conv/bias:0' shape=(256,) dtype=float32>\n",
      "  <tf.Variable 'conv4_block6_1_bn/gamma:0' shape=(256,) dtype=float32>\n",
      "  <tf.Variable 'conv4_block6_1_bn/beta:0' shape=(256,) dtype=float32>\n",
      "  <tf.Variable 'conv4_block6_2_conv/kernel:0' shape=(3, 3, 256, 256) dtype=float32>\n",
      "  <tf.Variable 'conv4_block6_2_conv/bias:0' shape=(256,) dtype=float32>\n",
      "  <tf.Variable 'conv4_block6_2_bn/gamma:0' shape=(256,) dtype=float32>\n",
      "  <tf.Variable 'conv4_block6_2_bn/beta:0' shape=(256,) dtype=float32>\n",
      "  <tf.Variable 'conv4_block6_3_conv/kernel:0' shape=(1, 1, 256, 1024) dtype=float32>\n",
      "  <tf.Variable 'conv4_block6_3_conv/bias:0' shape=(1024,) dtype=float32>\n",
      "  <tf.Variable 'conv4_block6_3_bn/gamma:0' shape=(1024,) dtype=float32>\n",
      "  <tf.Variable 'conv4_block6_3_bn/beta:0' shape=(1024,) dtype=float32>\n",
      "  <tf.Variable 'conv5_block1_1_conv/kernel:0' shape=(1, 1, 1024, 512) dtype=float32>\n",
      "  <tf.Variable 'conv5_block1_1_conv/bias:0' shape=(512,) dtype=float32>\n",
      "  <tf.Variable 'conv5_block1_1_bn/gamma:0' shape=(512,) dtype=float32>\n",
      "  <tf.Variable 'conv5_block1_1_bn/beta:0' shape=(512,) dtype=float32>\n",
      "  <tf.Variable 'conv5_block1_2_conv/kernel:0' shape=(3, 3, 512, 512) dtype=float32>\n",
      "  <tf.Variable 'conv5_block1_2_conv/bias:0' shape=(512,) dtype=float32>\n",
      "  <tf.Variable 'conv5_block1_2_bn/gamma:0' shape=(512,) dtype=float32>\n",
      "  <tf.Variable 'conv5_block1_2_bn/beta:0' shape=(512,) dtype=float32>\n",
      "  <tf.Variable 'conv5_block1_0_conv/kernel:0' shape=(1, 1, 1024, 2048) dtype=float32>\n",
      "  <tf.Variable 'conv5_block1_0_conv/bias:0' shape=(2048,) dtype=float32>\n",
      "  <tf.Variable 'conv5_block1_3_conv/kernel:0' shape=(1, 1, 512, 2048) dtype=float32>\n",
      "  <tf.Variable 'conv5_block1_3_conv/bias:0' shape=(2048,) dtype=float32>\n",
      "  <tf.Variable 'conv5_block1_0_bn/gamma:0' shape=(2048,) dtype=float32>\n",
      "  <tf.Variable 'conv5_block1_0_bn/beta:0' shape=(2048,) dtype=float32>\n",
      "  <tf.Variable 'conv5_block1_3_bn/gamma:0' shape=(2048,) dtype=float32>\n",
      "  <tf.Variable 'conv5_block1_3_bn/beta:0' shape=(2048,) dtype=float32>\n",
      "  <tf.Variable 'conv5_block2_1_conv/kernel:0' shape=(1, 1, 2048, 512) dtype=float32>\n",
      "  <tf.Variable 'conv5_block2_1_conv/bias:0' shape=(512,) dtype=float32>\n",
      "  <tf.Variable 'conv5_block2_1_bn/gamma:0' shape=(512,) dtype=float32>\n",
      "  <tf.Variable 'conv5_block2_1_bn/beta:0' shape=(512,) dtype=float32>\n",
      "  <tf.Variable 'conv5_block2_2_conv/kernel:0' shape=(3, 3, 512, 512) dtype=float32>\n",
      "  <tf.Variable 'conv5_block2_2_conv/bias:0' shape=(512,) dtype=float32>\n",
      "  <tf.Variable 'conv5_block2_2_bn/gamma:0' shape=(512,) dtype=float32>\n",
      "  <tf.Variable 'conv5_block2_2_bn/beta:0' shape=(512,) dtype=float32>\n",
      "  <tf.Variable 'conv5_block2_3_conv/kernel:0' shape=(1, 1, 512, 2048) dtype=float32>\n",
      "  <tf.Variable 'conv5_block2_3_conv/bias:0' shape=(2048,) dtype=float32>\n",
      "  <tf.Variable 'conv5_block2_3_bn/gamma:0' shape=(2048,) dtype=float32>\n",
      "  <tf.Variable 'conv5_block2_3_bn/beta:0' shape=(2048,) dtype=float32>\n",
      "  <tf.Variable 'conv5_block3_1_conv/kernel:0' shape=(1, 1, 2048, 512) dtype=float32>\n",
      "  <tf.Variable 'conv5_block3_1_conv/bias:0' shape=(512,) dtype=float32>\n",
      "  <tf.Variable 'conv5_block3_1_bn/gamma:0' shape=(512,) dtype=float32>\n",
      "  <tf.Variable 'conv5_block3_1_bn/beta:0' shape=(512,) dtype=float32>\n",
      "  <tf.Variable 'conv5_block3_2_conv/kernel:0' shape=(3, 3, 512, 512) dtype=float32>\n",
      "  <tf.Variable 'conv5_block3_2_conv/bias:0' shape=(512,) dtype=float32>\n",
      "  <tf.Variable 'conv5_block3_2_bn/gamma:0' shape=(512,) dtype=float32>\n",
      "  <tf.Variable 'conv5_block3_2_bn/beta:0' shape=(512,) dtype=float32>\n",
      "  <tf.Variable 'conv5_block3_3_conv/kernel:0' shape=(1, 1, 512, 2048) dtype=float32>\n",
      "  <tf.Variable 'conv5_block3_3_conv/bias:0' shape=(2048,) dtype=float32>\n",
      "  <tf.Variable 'conv5_block3_3_bn/gamma:0' shape=(2048,) dtype=float32>\n",
      "  <tf.Variable 'conv5_block3_3_bn/beta:0' shape=(2048,) dtype=float32>\n",
      "It is possible that this is intended behavior, but it is more likely\n",
      "an omission. This is a strong indication that this layer should be\n",
      "formulated as a subclassed Layer rather than a Lambda layer.\n"
     ]
    },
    {
     "name": "stdout",
     "output_type": "stream",
     "text": [
      "value of step 0\n",
      "value of initial epoch 0\n",
      "value of stop epoch 50\n",
      "value of model_trainable in poisoner True\n",
      "Epoch 1/25\n",
      "390/390 [==============================] - 24s 52ms/step - loss: 0.0780 - accuracy: 0.9730\n",
      "Epoch 2/25\n",
      "390/390 [==============================] - 19s 50ms/step - loss: 0.0700 - accuracy: 0.9762\n",
      "Epoch 3/25\n",
      "390/390 [==============================] - 19s 50ms/step - loss: 0.0624 - accuracy: 0.9787\n",
      "Epoch 4/25\n",
      "390/390 [==============================] - 20s 52ms/step - loss: 0.0607 - accuracy: 0.9788\n",
      "Epoch 5/25\n",
      "390/390 [==============================] - 19s 49ms/step - loss: 0.0583 - accuracy: 0.9807\n",
      "Epoch 6/25\n",
      "390/390 [==============================] - 20s 50ms/step - loss: 0.0584 - accuracy: 0.9803\n",
      "Epoch 7/25\n",
      "390/390 [==============================] - 20s 50ms/step - loss: 0.0558 - accuracy: 0.9810\n",
      "Epoch 8/25\n",
      "390/390 [==============================] - 20s 50ms/step - loss: 0.0525 - accuracy: 0.9823\n",
      "Epoch 9/25\n",
      "390/390 [==============================] - 19s 49ms/step - loss: 0.0519 - accuracy: 0.9815\n",
      "Epoch 10/25\n",
      "390/390 [==============================] - 20s 52ms/step - loss: 0.0513 - accuracy: 0.9822\n",
      "Epoch 11/25\n",
      "390/390 [==============================] - 19s 49ms/step - loss: 0.0540 - accuracy: 0.9821\n",
      "Epoch 12/25\n",
      "390/390 [==============================] - 19s 49ms/step - loss: 0.0489 - accuracy: 0.9832\n",
      "Epoch 13/25\n",
      "390/390 [==============================] - 20s 50ms/step - loss: 0.0524 - accuracy: 0.9818\n",
      "Epoch 14/25\n",
      "390/390 [==============================] - 19s 49ms/step - loss: 0.0507 - accuracy: 0.9827\n",
      "Epoch 15/25\n",
      "390/390 [==============================] - 19s 49ms/step - loss: 0.0481 - accuracy: 0.9837\n",
      "Epoch 16/25\n",
      "390/390 [==============================] - 19s 48ms/step - loss: 0.0462 - accuracy: 0.9843\n",
      "Epoch 17/25\n",
      "390/390 [==============================] - 20s 50ms/step - loss: 0.0458 - accuracy: 0.9845\n",
      "Epoch 18/25\n",
      "390/390 [==============================] - 20s 50ms/step - loss: 0.0478 - accuracy: 0.9841\n",
      "Epoch 19/25\n",
      "390/390 [==============================] - 20s 50ms/step - loss: 0.0500 - accuracy: 0.9826\n",
      "Epoch 20/25\n",
      "390/390 [==============================] - 20s 50ms/step - loss: 0.0478 - accuracy: 0.9833\n",
      "Epoch 21/25\n",
      "390/390 [==============================] - 20s 51ms/step - loss: 0.0465 - accuracy: 0.9843\n",
      "Epoch 22/25\n",
      "390/390 [==============================] - 20s 50ms/step - loss: 0.0459 - accuracy: 0.9852\n",
      "Epoch 23/25\n",
      "390/390 [==============================] - 20s 50ms/step - loss: 0.0420 - accuracy: 0.9861\n",
      "Epoch 24/25\n",
      "390/390 [==============================] - 19s 49ms/step - loss: 0.0441 - accuracy: 0.9850\n",
      "Epoch 25/25\n",
      "390/390 [==============================] - 20s 51ms/step - loss: 0.0421 - accuracy: 0.9853\n",
      "shape of x_poisoned (500, 32, 32, 3)\n",
      "shape of x_train (50000, 32, 32, 3)\n",
      "value of step 50\n",
      "value of initial epoch 50\n",
      "value of stop epoch 100\n",
      "value of model_trainable in poisoner True\n",
      "Epoch 1/25\n",
      "390/390 [==============================] - 20s 50ms/step - loss: 0.0640 - accuracy: 0.9813\n",
      "Epoch 2/25\n",
      "390/390 [==============================] - 20s 50ms/step - loss: 0.0540 - accuracy: 0.9836\n",
      "Epoch 3/25\n",
      "390/390 [==============================] - 20s 51ms/step - loss: 0.0536 - accuracy: 0.9823\n",
      "Epoch 4/25\n",
      "390/390 [==============================] - 20s 51ms/step - loss: 0.0485 - accuracy: 0.9839\n",
      "Epoch 5/25\n",
      "390/390 [==============================] - 20s 51ms/step - loss: 0.0505 - accuracy: 0.9833\n",
      "Epoch 6/25\n",
      "390/390 [==============================] - 20s 51ms/step - loss: 0.0475 - accuracy: 0.9843\n",
      "Epoch 7/25\n",
      "390/390 [==============================] - 20s 51ms/step - loss: 0.0469 - accuracy: 0.9843\n",
      "Epoch 8/25\n",
      "390/390 [==============================] - 19s 50ms/step - loss: 0.0463 - accuracy: 0.9843\n",
      "Epoch 9/25\n",
      "390/390 [==============================] - 20s 50ms/step - loss: 0.0447 - accuracy: 0.9848\n",
      "Epoch 10/25\n",
      "390/390 [==============================] - 20s 52ms/step - loss: 0.0434 - accuracy: 0.9843\n",
      "Epoch 11/25\n",
      "390/390 [==============================] - 20s 51ms/step - loss: 0.0466 - accuracy: 0.9839\n",
      "Epoch 12/25\n",
      "390/390 [==============================] - 20s 50ms/step - loss: 0.0420 - accuracy: 0.9855\n",
      "Epoch 13/25\n",
      "390/390 [==============================] - 19s 49ms/step - loss: 0.0418 - accuracy: 0.9858\n",
      "Epoch 14/25\n",
      "390/390 [==============================] - 20s 50ms/step - loss: 0.0416 - accuracy: 0.9862\n",
      "Epoch 15/25\n",
      "390/390 [==============================] - 19s 50ms/step - loss: 0.0401 - accuracy: 0.9862\n",
      "Epoch 16/25\n",
      "390/390 [==============================] - 19s 50ms/step - loss: 0.0403 - accuracy: 0.9867\n",
      "Epoch 17/25\n",
      "390/390 [==============================] - 20s 51ms/step - loss: 0.0427 - accuracy: 0.9853\n",
      "Epoch 18/25\n",
      "390/390 [==============================] - 20s 51ms/step - loss: 0.0399 - accuracy: 0.9866\n",
      "Epoch 19/25\n",
      "390/390 [==============================] - 20s 51ms/step - loss: 0.0396 - accuracy: 0.9864\n",
      "Epoch 20/25\n",
      "390/390 [==============================] - 20s 50ms/step - loss: 0.0379 - accuracy: 0.9869\n",
      "Epoch 21/25\n",
      "390/390 [==============================] - 20s 51ms/step - loss: 0.0380 - accuracy: 0.9871\n",
      "Epoch 22/25\n",
      "390/390 [==============================] - 20s 51ms/step - loss: 0.0361 - accuracy: 0.9878\n",
      "Epoch 23/25\n",
      "390/390 [==============================] - 20s 51ms/step - loss: 0.0400 - accuracy: 0.9865\n",
      "Epoch 24/25\n",
      "390/390 [==============================] - 20s 50ms/step - loss: 0.0360 - accuracy: 0.9883\n",
      "Epoch 25/25\n",
      "390/390 [==============================] - 20s 50ms/step - loss: 0.0375 - accuracy: 0.9868\n",
      "shape of x_poisoned (500, 32, 32, 3)\n",
      "shape of x_train (50000, 32, 32, 3)\n",
      "value of step 100\n",
      "value of initial epoch 100\n",
      "value of stop epoch 150\n",
      "value of model_trainable in poisoner True\n",
      "Epoch 1/25\n",
      "390/390 [==============================] - 20s 50ms/step - loss: 0.0371 - accuracy: 0.9878\n",
      "Epoch 2/25\n",
      "390/390 [==============================] - 19s 50ms/step - loss: 0.0381 - accuracy: 0.9875\n",
      "Epoch 3/25\n",
      "390/390 [==============================] - 19s 50ms/step - loss: 0.0354 - accuracy: 0.9880\n",
      "Epoch 4/25\n",
      "390/390 [==============================] - 20s 50ms/step - loss: 0.0365 - accuracy: 0.9872\n",
      "Epoch 5/25\n",
      "390/390 [==============================] - 20s 50ms/step - loss: 0.0366 - accuracy: 0.9872\n",
      "Epoch 6/25\n",
      "390/390 [==============================] - 20s 51ms/step - loss: 0.0355 - accuracy: 0.9882\n",
      "Epoch 7/25\n",
      "390/390 [==============================] - 20s 50ms/step - loss: 0.0351 - accuracy: 0.9878\n",
      "Epoch 8/25\n",
      "390/390 [==============================] - 19s 49ms/step - loss: 0.0354 - accuracy: 0.9878\n",
      "Epoch 9/25\n",
      "390/390 [==============================] - 19s 50ms/step - loss: 0.0374 - accuracy: 0.9877\n",
      "Epoch 10/25\n",
      "390/390 [==============================] - 20s 52ms/step - loss: 0.0350 - accuracy: 0.9876\n",
      "Epoch 11/25\n",
      "390/390 [==============================] - 20s 50ms/step - loss: 0.0379 - accuracy: 0.9869\n",
      "Epoch 12/25\n",
      "390/390 [==============================] - 20s 50ms/step - loss: 0.0372 - accuracy: 0.9874\n",
      "Epoch 13/25\n",
      "390/390 [==============================] - 20s 50ms/step - loss: 0.0347 - accuracy: 0.9878\n",
      "Epoch 14/25\n",
      "390/390 [==============================] - 20s 51ms/step - loss: 0.0341 - accuracy: 0.9883\n",
      "Epoch 15/25\n",
      "390/390 [==============================] - 20s 51ms/step - loss: 0.0335 - accuracy: 0.9883\n",
      "Epoch 16/25\n",
      "390/390 [==============================] - 20s 51ms/step - loss: 0.0335 - accuracy: 0.9889\n",
      "Epoch 17/25\n",
      "390/390 [==============================] - 20s 51ms/step - loss: 0.0343 - accuracy: 0.9887\n",
      "Epoch 18/25\n",
      "390/390 [==============================] - 20s 50ms/step - loss: 0.0337 - accuracy: 0.9884\n",
      "Epoch 19/25\n",
      "390/390 [==============================] - 20s 50ms/step - loss: 0.0330 - accuracy: 0.9890\n",
      "Epoch 20/25\n",
      "390/390 [==============================] - 20s 51ms/step - loss: 0.0332 - accuracy: 0.9887\n",
      "Epoch 21/25\n",
      "390/390 [==============================] - 20s 51ms/step - loss: 0.0333 - accuracy: 0.9886\n",
      "Epoch 22/25\n",
      "390/390 [==============================] - 19s 49ms/step - loss: 0.0324 - accuracy: 0.9890\n",
      "Epoch 23/25\n",
      "390/390 [==============================] - 20s 50ms/step - loss: 0.0322 - accuracy: 0.9891\n",
      "Epoch 24/25\n",
      "390/390 [==============================] - 20s 50ms/step - loss: 0.0342 - accuracy: 0.9887\n",
      "Epoch 25/25\n",
      "390/390 [==============================] - 19s 50ms/step - loss: 0.0334 - accuracy: 0.9887\n",
      "shape of x_poisoned (500, 32, 32, 3)\n",
      "shape of x_train (50000, 32, 32, 3)\n",
      "value of step 150\n",
      "value of initial epoch 150\n",
      "value of stop epoch 200\n",
      "value of model_trainable in poisoner True\n"
     ]
    },
    {
     "name": "stdout",
     "output_type": "stream",
     "text": [
      "Epoch 1/25\n",
      "390/390 [==============================] - 20s 50ms/step - loss: 0.0331 - accuracy: 0.9887\n",
      "Epoch 2/25\n",
      "390/390 [==============================] - 20s 50ms/step - loss: 0.0314 - accuracy: 0.9893\n",
      "Epoch 3/25\n",
      "390/390 [==============================] - 19s 49ms/step - loss: 0.0305 - accuracy: 0.9894\n",
      "Epoch 4/25\n",
      "390/390 [==============================] - 19s 49ms/step - loss: 0.0326 - accuracy: 0.9892\n",
      "Epoch 5/25\n",
      "390/390 [==============================] - 19s 50ms/step - loss: 0.0321 - accuracy: 0.9889\n",
      "Epoch 6/25\n",
      "390/390 [==============================] - 20s 50ms/step - loss: 0.0312 - accuracy: 0.9891\n",
      "Epoch 7/25\n",
      "390/390 [==============================] - 20s 50ms/step - loss: 0.0289 - accuracy: 0.9899\n",
      "Epoch 8/25\n",
      "390/390 [==============================] - 19s 49ms/step - loss: 0.0307 - accuracy: 0.9896\n",
      "Epoch 9/25\n",
      "390/390 [==============================] - 19s 50ms/step - loss: 0.0316 - accuracy: 0.9891\n",
      "Epoch 10/25\n",
      "390/390 [==============================] - 19s 49ms/step - loss: 0.0301 - accuracy: 0.9895\n",
      "Epoch 11/25\n",
      "390/390 [==============================] - 19s 49ms/step - loss: 0.0265 - accuracy: 0.9907\n",
      "Epoch 12/25\n",
      "390/390 [==============================] - 19s 49ms/step - loss: 0.0284 - accuracy: 0.9904\n",
      "Epoch 13/25\n",
      "390/390 [==============================] - 19s 49ms/step - loss: 0.0288 - accuracy: 0.9898\n",
      "Epoch 14/25\n",
      "390/390 [==============================] - 20s 50ms/step - loss: 0.0277 - accuracy: 0.9911\n",
      "Epoch 15/25\n",
      "390/390 [==============================] - 19s 49ms/step - loss: 0.0298 - accuracy: 0.9896\n",
      "Epoch 16/25\n",
      "390/390 [==============================] - 19s 49ms/step - loss: 0.0280 - accuracy: 0.9905\n",
      "Epoch 17/25\n",
      "390/390 [==============================] - 19s 49ms/step - loss: 0.0306 - accuracy: 0.9897\n",
      "Epoch 18/25\n",
      "390/390 [==============================] - 20s 51ms/step - loss: 0.0279 - accuracy: 0.9902\n",
      "Epoch 19/25\n",
      "390/390 [==============================] - 20s 50ms/step - loss: 0.0281 - accuracy: 0.9903\n",
      "Epoch 20/25\n",
      "390/390 [==============================] - 20s 50ms/step - loss: 0.0297 - accuracy: 0.9898\n",
      "Epoch 21/25\n",
      "390/390 [==============================] - 20s 50ms/step - loss: 0.0293 - accuracy: 0.9896\n",
      "Epoch 22/25\n",
      "390/390 [==============================] - 19s 49ms/step - loss: 0.0285 - accuracy: 0.9908\n",
      "Epoch 23/25\n",
      "390/390 [==============================] - 19s 49ms/step - loss: 0.0278 - accuracy: 0.9907\n",
      "Epoch 24/25\n",
      "390/390 [==============================] - 19s 49ms/step - loss: 0.0298 - accuracy: 0.9896\n",
      "Epoch 25/25\n",
      "390/390 [==============================] - 19s 49ms/step - loss: 0.0276 - accuracy: 0.9906\n",
      "shape of x_poisoned (500, 32, 32, 3)\n",
      "shape of x_train (50000, 32, 32, 3)\n"
     ]
    }
   ],
   "source": [
    "from art.attacks.poisoning.gradient_matching_attack import GradientMatchingAttack\n",
    "\n",
    "epsilson = 0.1/(std+1e-7)\n",
    "\n",
    "attack = GradientMatchingAttack(model_art,\n",
    "        percent_poison=0.01,\n",
    "        max_trials=1,\n",
    "        max_epochs=200,\n",
    "        clip_values=(min_,max_),\n",
    "        epsilon=epsilson,\n",
    "        verbose=False,\n",
    "        selection_strategy = \"max_grad_norm\",\n",
    "        retraining_factor = 4,  \n",
    "        retrain_epoch = 25,\n",
    "        patch_array = p,\n",
    "        target_class = class_target)                        \n",
    "\n",
    "# max_grad_norm - selecting indices takes 20 min for 10,000 samples\n",
    "x_poison, y_poison = attack.poison(x_trigger, y_trigger, x_train, y_train)\n"
   ]
  },
  {
   "cell_type": "markdown",
   "metadata": {},
   "source": [
    "## Examples of the trigger, an original sample, and the poisoned sample"
   ]
  },
  {
   "cell_type": "code",
   "execution_count": 6,
   "metadata": {},
   "outputs": [
    {
     "name": "stderr",
     "output_type": "stream",
     "text": [
      "Clipping input data to the valid range for imshow with RGB data ([0..1] for floats or [0..255] for integers).\n"
     ]
    },
    {
     "data": {
      "image/png": "[encoded data removed]",
      "text/plain": [
       "<Figure size 432x288 with 1 Axes>"
      ]
     },
     "metadata": {
      "needs_background": "light"
     },
     "output_type": "display_data"
    },
    {
     "data": {
      "image/png": "[encoded data removed]",
      "text/plain": [
       "<Figure size 432x288 with 1 Axes>"
      ]
     },
     "metadata": {
      "needs_background": "light"
     },
     "output_type": "display_data"
    },
    {
     "data": {
      "image/png": "[encoded data removed]",
      "text/plain": [
       "<Figure size 432x288 with 1 Axes>"
      ]
     },
     "metadata": {
      "needs_background": "light"
     },
     "output_type": "display_data"
    },
    {
     "data": {
      "image/png": "[encoded data removed]",
      "text/plain": [
       "<Figure size 432x288 with 1 Axes>"
      ]
     },
     "metadata": {
      "needs_background": "light"
     },
     "output_type": "display_data"
    }
   ],
   "source": [
    "import matplotlib.pyplot as plt\n",
    "plt.imshow(x_trigger[0])\n",
    "plt.title('Trigger image')\n",
    "plt.show()\n",
    "\n",
    "\n",
    "plt.imshow(x_trigger[0]*(std+1e-7)+mean)\n",
    "plt.title('Trigger image')\n",
    "plt.show()\n",
    "\n",
    "index_poisoned_example = np.where([np.any(p!=o) for (p,o) in zip(x_poison,x_train)])[0]\n",
    "plt.imshow(x_train[index_poisoned_example[0]]*(std+1e-7)+mean)\n",
    "plt.title('Original image')\n",
    "plt.show()\n",
    "\n",
    "plt.imshow(x_poison[index_poisoned_example[0]]*(std+1e-7)+mean)\n",
    "plt.title('Poisoned image')\n",
    "plt.show()\n"
   ]
  },
  {
   "cell_type": "markdown",
   "metadata": {},
   "source": [
    "## Training with Poison Images"
   ]
  },
  {
   "cell_type": "markdown",
   "metadata": {},
   "source": [
    "These attacks allow adversaries who can poison your dataset the ability to mislabel any particular target instance of their choosing without manipulating labels."
   ]
  },
  {
   "cell_type": "code",
   "execution_count": 7,
   "metadata": {},
   "outputs": [],
   "source": [
    "def create_model(x_train, y_train, num_classes=10, batch_size=64, epochs=25):\n",
    "    model = Sequential([\n",
    "        tf.keras.applications.ResNet50(input_shape=x_train.shape[1:], include_top=False, weights=None),\n",
    "        Flatten(),\n",
    "        Dense(num_classes, activation='softmax')\n",
    "    ])\n",
    "\n",
    "    model.compile(loss='categorical_crossentropy', optimizer='sgd', metrics=['accuracy'])\n",
    "\n",
    "    datagen = ImageDataGenerator(\n",
    "        featurewise_center=False,\n",
    "        samplewise_center=False,\n",
    "        featurewise_std_normalization=False,\n",
    "        samplewise_std_normalization=False,\n",
    "        zca_whitening=False,\n",
    "        rotation_range=15,\n",
    "        width_shift_range=0.1,\n",
    "        height_shift_range=0.1,\n",
    "        horizontal_flip=True,\n",
    "        vertical_flip=False\n",
    "        )\n",
    "    datagen.fit(x_train)\n",
    "    model.fit(datagen.flow(x_train, y_train, batch_size=batch_size), steps_per_epoch=x_train.shape[0] // batch_size,epochs=epochs,verbose=1)\n",
    "    return model"
   ]
  },
  {
   "cell_type": "code",
   "execution_count": 8,
   "metadata": {},
   "outputs": [
    {
     "name": "stdout",
     "output_type": "stream",
     "text": [
      "Epoch 1/50\n",
      "781/781 [==============================] - 28s 31ms/step - loss: 2.3631 - accuracy: 0.3180\n",
      "Epoch 2/50\n",
      "781/781 [==============================] - 24s 30ms/step - loss: 1.9702 - accuracy: 0.4107\n",
      "Epoch 3/50\n",
      "781/781 [==============================] - 24s 30ms/step - loss: 1.8999 - accuracy: 0.4211\n",
      "Epoch 4/50\n",
      "781/781 [==============================] - 24s 30ms/step - loss: 1.7644 - accuracy: 0.4525\n",
      "Epoch 5/50\n",
      "781/781 [==============================] - 24s 31ms/step - loss: 1.7775 - accuracy: 0.4482\n",
      "Epoch 6/50\n",
      "781/781 [==============================] - 25s 32ms/step - loss: 1.7962 - accuracy: 0.4431\n",
      "Epoch 7/50\n",
      "781/781 [==============================] - 24s 30ms/step - loss: 1.7538 - accuracy: 0.4574\n",
      "Epoch 8/50\n",
      "781/781 [==============================] - 24s 30ms/step - loss: 1.7306 - accuracy: 0.4673\n",
      "Epoch 9/50\n",
      "781/781 [==============================] - 23s 30ms/step - loss: 1.6545 - accuracy: 0.4906\n",
      "Epoch 10/50\n",
      "781/781 [==============================] - 23s 30ms/step - loss: 1.5967 - accuracy: 0.5044\n",
      "Epoch 11/50\n",
      "781/781 [==============================] - 25s 32ms/step - loss: 1.5267 - accuracy: 0.5062\n",
      "Epoch 12/50\n",
      "781/781 [==============================] - 25s 31ms/step - loss: 1.4132 - accuracy: 0.5281\n",
      "Epoch 13/50\n",
      "781/781 [==============================] - 24s 31ms/step - loss: 1.3400 - accuracy: 0.5448\n",
      "Epoch 14/50\n",
      "781/781 [==============================] - 24s 31ms/step - loss: 1.3016 - accuracy: 0.5566\n",
      "Epoch 15/50\n",
      "781/781 [==============================] - 24s 31ms/step - loss: 1.2365 - accuracy: 0.5727\n",
      "Epoch 16/50\n",
      "781/781 [==============================] - 23s 30ms/step - loss: 1.1936 - accuracy: 0.5840\n",
      "Epoch 17/50\n",
      "781/781 [==============================] - 25s 31ms/step - loss: 1.1637 - accuracy: 0.5915\n",
      "Epoch 18/50\n",
      "781/781 [==============================] - 24s 30ms/step - loss: 1.1256 - accuracy: 0.6043\n",
      "Epoch 19/50\n",
      "781/781 [==============================] - 25s 32ms/step - loss: 1.0876 - accuracy: 0.6148\n",
      "Epoch 20/50\n",
      "781/781 [==============================] - 24s 31ms/step - loss: 1.0722 - accuracy: 0.6228\n",
      "Epoch 21/50\n",
      "781/781 [==============================] - 24s 30ms/step - loss: 1.0493 - accuracy: 0.6320\n",
      "Epoch 22/50\n",
      "781/781 [==============================] - 24s 31ms/step - loss: 1.0163 - accuracy: 0.6394\n",
      "Epoch 23/50\n",
      "781/781 [==============================] - 24s 31ms/step - loss: 0.9730 - accuracy: 0.6555\n",
      "Epoch 24/50\n",
      "781/781 [==============================] - 24s 31ms/step - loss: 0.9514 - accuracy: 0.6644\n",
      "Epoch 25/50\n",
      "781/781 [==============================] - 25s 32ms/step - loss: 0.9575 - accuracy: 0.6601\n",
      "Epoch 26/50\n",
      "781/781 [==============================] - 24s 30ms/step - loss: 0.9409 - accuracy: 0.6682\n",
      "Epoch 27/50\n",
      "781/781 [==============================] - 24s 30ms/step - loss: 0.9068 - accuracy: 0.6797\n",
      "Epoch 28/50\n",
      "781/781 [==============================] - 24s 31ms/step - loss: 0.8827 - accuracy: 0.6882\n",
      "Epoch 29/50\n",
      "781/781 [==============================] - 24s 30ms/step - loss: 0.8631 - accuracy: 0.6943\n",
      "Epoch 30/50\n",
      "781/781 [==============================] - 24s 31ms/step - loss: 0.8461 - accuracy: 0.6996\n",
      "Epoch 31/50\n",
      "781/781 [==============================] - 24s 31ms/step - loss: 0.8364 - accuracy: 0.7024\n",
      "Epoch 32/50\n",
      "781/781 [==============================] - 23s 30ms/step - loss: 0.8236 - accuracy: 0.7065\n",
      "Epoch 33/50\n",
      "781/781 [==============================] - 24s 30ms/step - loss: 0.7984 - accuracy: 0.7174\n",
      "Epoch 34/50\n",
      "781/781 [==============================] - 24s 30ms/step - loss: 0.7796 - accuracy: 0.7239\n",
      "Epoch 35/50\n",
      "781/781 [==============================] - 24s 31ms/step - loss: 0.7643 - accuracy: 0.7275\n",
      "Epoch 36/50\n",
      "781/781 [==============================] - 24s 30ms/step - loss: 0.7585 - accuracy: 0.7279\n",
      "Epoch 37/50\n",
      "781/781 [==============================] - 24s 30ms/step - loss: 0.7399 - accuracy: 0.7362\n",
      "Epoch 38/50\n",
      "781/781 [==============================] - 24s 30ms/step - loss: 0.7240 - accuracy: 0.7432\n",
      "Epoch 39/50\n",
      "781/781 [==============================] - 24s 31ms/step - loss: 0.7123 - accuracy: 0.7464\n",
      "Epoch 40/50\n",
      "781/781 [==============================] - 24s 30ms/step - loss: 0.6987 - accuracy: 0.7502\n",
      "Epoch 41/50\n",
      "781/781 [==============================] - 24s 30ms/step - loss: 0.6923 - accuracy: 0.7549\n",
      "Epoch 42/50\n",
      "781/781 [==============================] - 23s 30ms/step - loss: 0.6681 - accuracy: 0.7638\n",
      "Epoch 43/50\n",
      "781/781 [==============================] - 23s 29ms/step - loss: 0.6527 - accuracy: 0.7680\n",
      "Epoch 44/50\n",
      "781/781 [==============================] - 23s 30ms/step - loss: 0.6477 - accuracy: 0.7695\n",
      "Epoch 45/50\n",
      "781/781 [==============================] - 24s 30ms/step - loss: 0.6290 - accuracy: 0.7773\n",
      "Epoch 46/50\n",
      "781/781 [==============================] - 24s 30ms/step - loss: 0.6202 - accuracy: 0.7801\n",
      "Epoch 47/50\n",
      "781/781 [==============================] - 24s 30ms/step - loss: 0.6220 - accuracy: 0.7783\n",
      "Epoch 48/50\n",
      "781/781 [==============================] - 23s 30ms/step - loss: 0.5988 - accuracy: 0.7884\n",
      "Epoch 49/50\n",
      "781/781 [==============================] - 24s 30ms/step - loss: 0.5931 - accuracy: 0.7885\n",
      "Epoch 50/50\n",
      "781/781 [==============================] - 25s 32ms/step - loss: 0.5788 - accuracy: 0.7945\n",
      "y_trigger: [[0. 1. 0. 0. 0. 0. 0. 0. 0. 0.]]\n",
      "y_: [[0.12249828 0.24588071 0.10337993 0.10848933 0.00141743 0.03672792\n",
      "  0.21139272 0.02367888 0.00212008 0.14441463]]\n"
     ]
    }
   ],
   "source": [
    "model_poisoned = create_model(x_poison, y_poison, epochs=50)\n",
    "y_ = model_poisoned.predict(x_trigger)\n",
    "\n",
    "print(\"y_trigger:\", y_trigger)\n",
    "print(\"y_:\", y_)"
   ]
  },
  {
   "cell_type": "code",
   "execution_count": 9,
   "metadata": {},
   "outputs": [],
   "source": [
    "# x_trigger = x_test[index_target:index_target+1]\n",
    "# # Will the position of tigger matter?????????????? RESEARCH QUESTIONS [Need to make this random]\n",
    "# # x_trigger[:,16:24,16:24,:] = p\n",
    "# # y_ = model_poisoned.predict(x_trigger)\n",
    "\n",
    "# print(\"y_:\", y_)"
   ]
  },
  {
   "cell_type": "code",
   "execution_count": 14,
   "metadata": {},
   "outputs": [
    {
     "name": "stderr",
     "output_type": "stream",
     "text": [
      "Clipping input data to the valid range for imshow with RGB data ([0..1] for floats or [0..255] for integers).\n"
     ]
    },
    {
     "data": {
      "text/plain": [
       "<matplotlib.image.AxesImage at 0x7fd618fdc5e0>"
      ]
     },
     "execution_count": 14,
     "metadata": {},
     "output_type": "execute_result"
    },
    {
     "data": {
      "image/png": "[encoded data removed]",
      "text/plain": [
       "<Figure size 432x288 with 1 Axes>"
      ]
     },
     "metadata": {
      "needs_background": "light"
     },
     "output_type": "display_data"
    }
   ],
   "source": [
    "plt.imshow(x_test[index_target])"
   ]
  },
  {
   "cell_type": "code",
   "execution_count": 16,
   "metadata": {},
   "outputs": [
    {
     "name": "stderr",
     "output_type": "stream",
     "text": [
      "Clipping input data to the valid range for imshow with RGB data ([0..1] for floats or [0..255] for integers).\n"
     ]
    },
    {
     "data": {
      "text/plain": [
       "<matplotlib.image.AxesImage at 0x7fd618f0c8e0>"
      ]
     },
     "execution_count": 16,
     "metadata": {},
     "output_type": "execute_result"
    },
    {
     "data": {
      "image/png": "[encoded data removed]",
      "text/plain": [
       "<Figure size 432x288 with 1 Axes>"
      ]
     },
     "metadata": {
      "needs_background": "light"
     },
     "output_type": "display_data"
    }
   ],
   "source": [
    "plt.imshow(x_test[np.where(y_test.argmax(axis=1)==class_source)[0][1]])"
   ]
  },
  {
   "cell_type": "code",
   "execution_count": 12,
   "metadata": {},
   "outputs": [
    {
     "name": "stdout",
     "output_type": "stream",
     "text": [
      "[1. 0. 0. 0. 0. 0. 0. 0. 0. 0.]\n"
     ]
    }
   ],
   "source": [
    "print(y_test[index_target])"
   ]
  },
  {
   "cell_type": "code",
   "execution_count": 20,
   "metadata": {},
   "outputs": [
    {
     "name": "stderr",
     "output_type": "stream",
     "text": [
      "Clipping input data to the valid range for imshow with RGB data ([0..1] for floats or [0..255] for integers).\n"
     ]
    },
    {
     "name": "stdout",
     "output_type": "stream",
     "text": [
      "(32, 32, 3)\n"
     ]
    },
    {
     "data": {
      "text/plain": [
       "<matplotlib.image.AxesImage at 0x7fd618deb070>"
      ]
     },
     "execution_count": 20,
     "metadata": {},
     "output_type": "execute_result"
    },
    {
     "data": {
      "image/png": "[encoded data removed]",
      "text/plain": [
       "<Figure size 432x288 with 1 Axes>"
      ]
     },
     "metadata": {
      "needs_background": "light"
     },
     "output_type": "display_data"
    }
   ],
   "source": [
    "x1 = x_test[np.where(y_test.argmax(axis=1)==class_source)[0][1]]\n",
    "print(x1.shape)\n",
    "x1[16:24,16:24,:] = p\n",
    "plt.imshow(x1)"
   ]
  },
  {
   "cell_type": "code",
   "execution_count": 22,
   "metadata": {},
   "outputs": [
    {
     "name": "stdout",
     "output_type": "stream",
     "text": [
      "y_: [[7.8421366e-01 9.6182262e-08 8.1367455e-03 5.4979596e-02 6.8488414e-03\n",
      "  1.9991677e-02 3.4986613e-03 7.0736893e-02 5.1585145e-02 8.6855744e-06]]\n"
     ]
    }
   ],
   "source": [
    "y1 = model_poisoned.predict(tf.expand_dims(x1,axis=0))\n",
    "\n",
    "\n",
    "print(\"y_:\", y1)"
   ]
  },
  {
   "cell_type": "code",
   "execution_count": null,
   "metadata": {},
   "outputs": [],
   "source": []
  }
 ],
 "metadata": {
  "interpreter": {
   "hash": "0efaf3e5c0b4bd1ede177191899ec2ef4ee13bfdededa3ba02bc2fc62340f8fa"
  },
  "kernelspec": {
   "display_name": "Python 3",
   "language": "python",
   "name": "python3"
  },
  "language_info": {
   "codemirror_mode": {
    "name": "ipython",
    "version": 3
   },
   "file_extension": ".py",
   "mimetype": "text/x-python",
   "name": "python",
   "nbconvert_exporter": "python",
   "pygments_lexer": "ipython3",
   "version": "3.8.8"
  }
 },
 "nbformat": 4,
 "nbformat_minor": 2
}
